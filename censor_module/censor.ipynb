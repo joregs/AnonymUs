{
 "cells": [
  {
   "cell_type": "code",
   "execution_count": 2,
   "id": "21651518-c898-4c61-8e87-9559db19242b",
   "metadata": {},
   "outputs": [
    {
     "name": "stdout",
     "output_type": "stream",
     "text": [
      "Collecting pytesseract\n",
      "  Downloading pytesseract-0.3.13-py3-none-any.whl.metadata (11 kB)\n",
      "Collecting pdf2image\n",
      "  Downloading pdf2image-1.17.0-py3-none-any.whl.metadata (6.2 kB)\n",
      "Collecting pymupdf\n",
      "  Downloading pymupdf-1.25.4-cp39-abi3-manylinux2014_x86_64.manylinux_2_17_x86_64.whl.metadata (3.4 kB)\n",
      "Collecting pdfminer.six\n",
      "  Downloading pdfminer.six-20240706-py3-none-any.whl.metadata (4.1 kB)\n",
      "Requirement already satisfied: packaging>=21.3 in /home/jojo/mse/venv/lib/python3.12/site-packages (from pytesseract) (24.2)\n",
      "Requirement already satisfied: Pillow>=8.0.0 in /home/jojo/mse/venv/lib/python3.12/site-packages (from pytesseract) (11.1.0)\n",
      "Requirement already satisfied: charset-normalizer>=2.0.0 in /home/jojo/mse/venv/lib/python3.12/site-packages (from pdfminer.six) (3.4.1)\n",
      "Collecting cryptography>=36.0.0 (from pdfminer.six)\n",
      "  Downloading cryptography-44.0.2-cp39-abi3-manylinux_2_34_x86_64.whl.metadata (5.7 kB)\n",
      "Requirement already satisfied: cffi>=1.12 in /home/jojo/mse/venv/lib/python3.12/site-packages (from cryptography>=36.0.0->pdfminer.six) (1.17.1)\n",
      "Requirement already satisfied: pycparser in /home/jojo/mse/venv/lib/python3.12/site-packages (from cffi>=1.12->cryptography>=36.0.0->pdfminer.six) (2.22)\n",
      "Downloading pytesseract-0.3.13-py3-none-any.whl (14 kB)\n",
      "Downloading pdf2image-1.17.0-py3-none-any.whl (11 kB)\n",
      "Downloading pymupdf-1.25.4-cp39-abi3-manylinux2014_x86_64.manylinux_2_17_x86_64.whl (20.0 MB)\n",
      "\u001b[2K   \u001b[90m━━━━━━━━━━━━━━━━━━━━━━━━━━━━━━━━━━━━━━━━\u001b[0m \u001b[32m20.0/20.0 MB\u001b[0m \u001b[31m62.7 MB/s\u001b[0m eta \u001b[36m0:00:00\u001b[0m00:01\u001b[0m00:01\u001b[0m\n",
      "Downloading pdfminer.six-20240706-py3-none-any.whl (5.6 MB)\n",
      "\u001b[2K   \u001b[90m━━━━━━━━━━━━━━━━━━━━━━━━━━━━━━━━━━━━━━━━\u001b[0m \u001b[32m5.6/5.6 MB\u001b[0m \u001b[31m84.5 MB/s\u001b[0m eta \u001b[36m0:00:00\u001b[0ma \u001b[36m0:00:01\u001b[0m\n",
      "\u001b[?25hDownloading cryptography-44.0.2-cp39-abi3-manylinux_2_34_x86_64.whl (4.2 MB)\n",
      "\u001b[2K   \u001b[90m━━━━━━━━━━━━━━━━━━━━━━━━━━━━━━━━━━━━━━━━\u001b[0m \u001b[32m4.2/4.2 MB\u001b[0m \u001b[31m80.6 MB/s\u001b[0m eta \u001b[36m0:00:00\u001b[0ma \u001b[36m0:00:01\u001b[0m\n",
      "Installing collected packages: pytesseract, pymupdf, pdf2image, cryptography, pdfminer.six\n",
      "Successfully installed cryptography-44.0.2 pdf2image-1.17.0 pdfminer.six-20240706 pymupdf-1.25.4 pytesseract-0.3.13\n",
      "Note: you may need to restart the kernel to use updated packages.\n"
     ]
    }
   ],
   "source": [
    "pip install pytesseract pdf2image pymupdf pdfminer.six"
   ]
  },
  {
   "cell_type": "code",
   "execution_count": 10,
   "id": "12f766a3-1966-4717-9356-76fc4d99fa41",
   "metadata": {},
   "outputs": [
    {
     "name": "stdout",
     "output_type": "stream",
     "text": [
      "✅ PDF texte modifié sauvegardé sous in_redacted.pdf\n"
     ]
    }
   ],
   "source": [
    "import fitz  # PyMuPDF\n",
    "import pytesseract\n",
    "from pdf2image import convert_from_path\n",
    "from PIL import Image, ImageDraw\n",
    "import os\n",
    "\n",
    "def extract_text_with_pymupdf(pdf_path):\n",
    "    doc = fitz.open(pdf_path)\n",
    "    text = \"\\n\".join([page.get_text(\"text\") for page in doc])\n",
    "    return text.strip(), doc\n",
    "\n",
    "def convert_pdf_to_images(pdf_path):\n",
    "    return convert_from_path(pdf_path)\n",
    "\n",
    "def redact_text_on_image(image, old_text):\n",
    "    ocr_data = pytesseract.image_to_data(image, lang='eng+fra', output_type=pytesseract.Output.DICT)\n",
    "    \n",
    "    draw = ImageDraw.Draw(image)\n",
    "    for i, word in enumerate(ocr_data[\"text\"]):\n",
    "        if old_text.lower() in word.lower():\n",
    "            (x, y, w, h) = (ocr_data[\"left\"][i], ocr_data[\"top\"][i], ocr_data[\"width\"][i], ocr_data[\"height\"][i])\n",
    "            draw.rectangle([x, y, x + w, y + h], fill=\"black\")\n",
    "\n",
    "    return image\n",
    "\n",
    "def modify_pdf(pdf_path, old_text):\n",
    "    extracted_text, doc = extract_text_with_pymupdf(pdf_path)\n",
    "    \n",
    "    if extracted_text:\n",
    "        # Le PDF contient du texte sélectionnable\n",
    "        output_pdf_path = pdf_path.replace(\".pdf\", \"_redacted.pdf\")\n",
    "        for page in doc:\n",
    "            text_instances = page.search_for(old_text)\n",
    "            for rect in text_instances:\n",
    "                page.add_redact_annot(rect, fill=(0, 0, 0))\n",
    "            page.apply_redactions()\n",
    "        doc.save(output_pdf_path)\n",
    "        doc.close()\n",
    "        print(f\"PDF texte modifié sauvegardé sous {output_pdf_path}\")\n",
    "    else:\n",
    "        # Le PDF est un scan, traiter avec OCR\n",
    "        images = convert_pdf_to_images(pdf_path)\n",
    "        redacted_images = [redact_text_on_image(img, old_text) for img in images]\n",
    "        output_pdf_path = pdf_path.replace(\".pdf\", \"_redacted.pdf\")\n",
    "        redacted_images[0].save(output_pdf_path, save_all=True, append_images=redacted_images[1:])\n",
    "        print(f\"PDF image modifié sauvegardé sous {output_pdf_path}\")\n",
    "    \n",
    "    return output_pdf_path\n",
    "\n",
    "pdf_file = \"in.pdf\"\n",
    "modified_pdf = modify_pdf(pdf_file, \"Jorge\")"
   ]
  },
  {
   "cell_type": "code",
   "execution_count": 5,
   "id": "ca421ac2-08f4-434c-9046-ed1e33bf427d",
   "metadata": {},
   "outputs": [],
   "source": []
  },
  {
   "cell_type": "code",
   "execution_count": null,
   "id": "de50bed0-d2db-4463-9297-bdee76c3ce57",
   "metadata": {},
   "outputs": [],
   "source": []
  }
 ],
 "metadata": {
  "kernelspec": {
   "display_name": "Python 3 (ipykernel)",
   "language": "python",
   "name": "python3"
  },
  "language_info": {
   "codemirror_mode": {
    "name": "ipython",
    "version": 3
   },
   "file_extension": ".py",
   "mimetype": "text/x-python",
   "name": "python",
   "nbconvert_exporter": "python",
   "pygments_lexer": "ipython3",
   "version": "3.12.3"
  }
 },
 "nbformat": 4,
 "nbformat_minor": 5
}
