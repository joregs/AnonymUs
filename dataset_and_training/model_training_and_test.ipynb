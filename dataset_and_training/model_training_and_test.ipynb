{
  "cells": [
    {
      "cell_type": "code",
      "source": [
        "!pip install -q datasets transformers seqeval evaluate accelerate fsspec==2023.9.2\n",
        "!pip install --upgrade --no-cache-dir datasets\n"
      ],
      "metadata": {
        "id": "Gz48H-5_gd_3",
        "colab": {
          "base_uri": "https://localhost:8080/"
        },
        "outputId": "2658434d-25ee-4085-9ea2-d3b6f2050288"
      },
      "id": "Gz48H-5_gd_3",
      "execution_count": null,
      "outputs": [
        {
          "output_type": "stream",
          "name": "stdout",
          "text": [
            "Requirement already satisfied: datasets in /usr/local/lib/python3.11/dist-packages (3.6.0)\n",
            "Requirement already satisfied: filelock in /usr/local/lib/python3.11/dist-packages (from datasets) (3.18.0)\n",
            "Requirement already satisfied: numpy>=1.17 in /usr/local/lib/python3.11/dist-packages (from datasets) (2.0.2)\n",
            "Requirement already satisfied: pyarrow>=15.0.0 in /usr/local/lib/python3.11/dist-packages (from datasets) (18.1.0)\n",
            "Requirement already satisfied: dill<0.3.9,>=0.3.0 in /usr/local/lib/python3.11/dist-packages (from datasets) (0.3.7)\n",
            "Requirement already satisfied: pandas in /usr/local/lib/python3.11/dist-packages (from datasets) (2.2.2)\n",
            "Requirement already satisfied: requests>=2.32.2 in /usr/local/lib/python3.11/dist-packages (from datasets) (2.32.3)\n",
            "Requirement already satisfied: tqdm>=4.66.3 in /usr/local/lib/python3.11/dist-packages (from datasets) (4.67.1)\n",
            "Requirement already satisfied: xxhash in /usr/local/lib/python3.11/dist-packages (from datasets) (3.5.0)\n",
            "Requirement already satisfied: multiprocess<0.70.17 in /usr/local/lib/python3.11/dist-packages (from datasets) (0.70.15)\n",
            "Requirement already satisfied: fsspec<=2025.3.0,>=2023.1.0 in /usr/local/lib/python3.11/dist-packages (from fsspec[http]<=2025.3.0,>=2023.1.0->datasets) (2023.9.2)\n",
            "Requirement already satisfied: huggingface-hub>=0.24.0 in /usr/local/lib/python3.11/dist-packages (from datasets) (0.32.2)\n",
            "Requirement already satisfied: packaging in /usr/local/lib/python3.11/dist-packages (from datasets) (24.2)\n",
            "Requirement already satisfied: pyyaml>=5.1 in /usr/local/lib/python3.11/dist-packages (from datasets) (6.0.2)\n",
            "Requirement already satisfied: aiohttp!=4.0.0a0,!=4.0.0a1 in /usr/local/lib/python3.11/dist-packages (from fsspec[http]<=2025.3.0,>=2023.1.0->datasets) (3.11.15)\n",
            "Requirement already satisfied: typing-extensions>=3.7.4.3 in /usr/local/lib/python3.11/dist-packages (from huggingface-hub>=0.24.0->datasets) (4.13.2)\n",
            "Requirement already satisfied: hf-xet<2.0.0,>=1.1.2 in /usr/local/lib/python3.11/dist-packages (from huggingface-hub>=0.24.0->datasets) (1.1.2)\n",
            "Requirement already satisfied: charset-normalizer<4,>=2 in /usr/local/lib/python3.11/dist-packages (from requests>=2.32.2->datasets) (3.4.2)\n",
            "Requirement already satisfied: idna<4,>=2.5 in /usr/local/lib/python3.11/dist-packages (from requests>=2.32.2->datasets) (3.10)\n",
            "Requirement already satisfied: urllib3<3,>=1.21.1 in /usr/local/lib/python3.11/dist-packages (from requests>=2.32.2->datasets) (2.4.0)\n",
            "Requirement already satisfied: certifi>=2017.4.17 in /usr/local/lib/python3.11/dist-packages (from requests>=2.32.2->datasets) (2025.4.26)\n",
            "Requirement already satisfied: python-dateutil>=2.8.2 in /usr/local/lib/python3.11/dist-packages (from pandas->datasets) (2.9.0.post0)\n",
            "Requirement already satisfied: pytz>=2020.1 in /usr/local/lib/python3.11/dist-packages (from pandas->datasets) (2025.2)\n",
            "Requirement already satisfied: tzdata>=2022.7 in /usr/local/lib/python3.11/dist-packages (from pandas->datasets) (2025.2)\n",
            "Requirement already satisfied: aiohappyeyeballs>=2.3.0 in /usr/local/lib/python3.11/dist-packages (from aiohttp!=4.0.0a0,!=4.0.0a1->fsspec[http]<=2025.3.0,>=2023.1.0->datasets) (2.6.1)\n",
            "Requirement already satisfied: aiosignal>=1.1.2 in /usr/local/lib/python3.11/dist-packages (from aiohttp!=4.0.0a0,!=4.0.0a1->fsspec[http]<=2025.3.0,>=2023.1.0->datasets) (1.3.2)\n",
            "Requirement already satisfied: attrs>=17.3.0 in /usr/local/lib/python3.11/dist-packages (from aiohttp!=4.0.0a0,!=4.0.0a1->fsspec[http]<=2025.3.0,>=2023.1.0->datasets) (25.3.0)\n",
            "Requirement already satisfied: frozenlist>=1.1.1 in /usr/local/lib/python3.11/dist-packages (from aiohttp!=4.0.0a0,!=4.0.0a1->fsspec[http]<=2025.3.0,>=2023.1.0->datasets) (1.6.0)\n",
            "Requirement already satisfied: multidict<7.0,>=4.5 in /usr/local/lib/python3.11/dist-packages (from aiohttp!=4.0.0a0,!=4.0.0a1->fsspec[http]<=2025.3.0,>=2023.1.0->datasets) (6.4.4)\n",
            "Requirement already satisfied: propcache>=0.2.0 in /usr/local/lib/python3.11/dist-packages (from aiohttp!=4.0.0a0,!=4.0.0a1->fsspec[http]<=2025.3.0,>=2023.1.0->datasets) (0.3.1)\n",
            "Requirement already satisfied: yarl<2.0,>=1.17.0 in /usr/local/lib/python3.11/dist-packages (from aiohttp!=4.0.0a0,!=4.0.0a1->fsspec[http]<=2025.3.0,>=2023.1.0->datasets) (1.20.0)\n",
            "Requirement already satisfied: six>=1.5 in /usr/local/lib/python3.11/dist-packages (from python-dateutil>=2.8.2->pandas->datasets) (1.17.0)\n"
          ]
        }
      ]
    },
    {
      "cell_type": "code",
      "source": [
        "!pip install --upgrade --no-cache-dir transformers"
      ],
      "metadata": {
        "id": "p1VmieLLZQWl",
        "colab": {
          "base_uri": "https://localhost:8080/"
        },
        "outputId": "c1ce3a15-b697-45b7-f351-2294835ffc7a"
      },
      "id": "p1VmieLLZQWl",
      "execution_count": null,
      "outputs": [
        {
          "output_type": "stream",
          "name": "stdout",
          "text": [
            "Requirement already satisfied: transformers in /usr/local/lib/python3.11/dist-packages (4.52.4)\n",
            "Requirement already satisfied: filelock in /usr/local/lib/python3.11/dist-packages (from transformers) (3.18.0)\n",
            "Requirement already satisfied: huggingface-hub<1.0,>=0.30.0 in /usr/local/lib/python3.11/dist-packages (from transformers) (0.32.2)\n",
            "Requirement already satisfied: numpy>=1.17 in /usr/local/lib/python3.11/dist-packages (from transformers) (2.0.2)\n",
            "Requirement already satisfied: packaging>=20.0 in /usr/local/lib/python3.11/dist-packages (from transformers) (24.2)\n",
            "Requirement already satisfied: pyyaml>=5.1 in /usr/local/lib/python3.11/dist-packages (from transformers) (6.0.2)\n",
            "Requirement already satisfied: regex!=2019.12.17 in /usr/local/lib/python3.11/dist-packages (from transformers) (2024.11.6)\n",
            "Requirement already satisfied: requests in /usr/local/lib/python3.11/dist-packages (from transformers) (2.32.3)\n",
            "Requirement already satisfied: tokenizers<0.22,>=0.21 in /usr/local/lib/python3.11/dist-packages (from transformers) (0.21.1)\n",
            "Requirement already satisfied: safetensors>=0.4.3 in /usr/local/lib/python3.11/dist-packages (from transformers) (0.5.3)\n",
            "Requirement already satisfied: tqdm>=4.27 in /usr/local/lib/python3.11/dist-packages (from transformers) (4.67.1)\n",
            "Requirement already satisfied: fsspec>=2023.5.0 in /usr/local/lib/python3.11/dist-packages (from huggingface-hub<1.0,>=0.30.0->transformers) (2023.9.2)\n",
            "Requirement already satisfied: typing-extensions>=3.7.4.3 in /usr/local/lib/python3.11/dist-packages (from huggingface-hub<1.0,>=0.30.0->transformers) (4.13.2)\n",
            "Requirement already satisfied: hf-xet<2.0.0,>=1.1.2 in /usr/local/lib/python3.11/dist-packages (from huggingface-hub<1.0,>=0.30.0->transformers) (1.1.2)\n",
            "Requirement already satisfied: charset-normalizer<4,>=2 in /usr/local/lib/python3.11/dist-packages (from requests->transformers) (3.4.2)\n",
            "Requirement already satisfied: idna<4,>=2.5 in /usr/local/lib/python3.11/dist-packages (from requests->transformers) (3.10)\n",
            "Requirement already satisfied: urllib3<3,>=1.21.1 in /usr/local/lib/python3.11/dist-packages (from requests->transformers) (2.4.0)\n",
            "Requirement already satisfied: certifi>=2017.4.17 in /usr/local/lib/python3.11/dist-packages (from requests->transformers) (2025.4.26)\n"
          ]
        }
      ]
    },
    {
      "cell_type": "code",
      "source": [],
      "metadata": {
        "id": "iMbhuVc2ZmLo"
      },
      "id": "iMbhuVc2ZmLo",
      "execution_count": null,
      "outputs": []
    },
    {
      "metadata": {
        "ExecuteTime": {
          "end_time": "2025-03-27T12:02:13.103493Z",
          "start_time": "2025-03-27T12:02:13.099891Z"
        },
        "id": "716d610352587555",
        "colab": {
          "base_uri": "https://localhost:8080/"
        },
        "outputId": "e97f2cd6-34ea-4427-c115-898d99b75997"
      },
      "cell_type": "code",
      "source": [
        "from datasets import load_dataset\n",
        "from transformers import AutoTokenizer, AutoModelForTokenClassification, DataCollatorForTokenClassification\n",
        "from transformers import TrainingArguments, Trainer\n",
        "import evaluate\n",
        "import numpy as np\n",
        "\n",
        "# LoRA integration\n",
        "from peft import get_peft_model, LoraConfig, TaskType\n",
        "from google.colab import drive\n",
        "drive.mount('/content/drive')"
      ],
      "id": "716d610352587555",
      "outputs": [
        {
          "output_type": "stream",
          "name": "stdout",
          "text": [
            "Drive already mounted at /content/drive; to attempt to forcibly remount, call drive.mount(\"/content/drive\", force_remount=True).\n"
          ]
        }
      ],
      "execution_count": null
    },
    {
      "metadata": {
        "ExecuteTime": {
          "end_time": "2025-03-27T12:02:20.356312Z",
          "start_time": "2025-03-27T12:02:13.238360Z"
        },
        "id": "f3fac1c713902a7a",
        "colab": {
          "base_uri": "https://localhost:8080/"
        },
        "outputId": "b5e1d7c4-874c-42be-de33-ddfba40b9b5d"
      },
      "cell_type": "code",
      "source": [
        "dataset = load_dataset(\"wikiann\", \"fr\")\n",
        "\n",
        "label_list = dataset[\"train\"].features[\"ner_tags\"].feature.names\n",
        "id2label = {i: l for i, l in enumerate(label_list)}\n",
        "label2id = {l: i for i, l in enumerate(label_list)}\n",
        "print(label_list)"
      ],
      "id": "f3fac1c713902a7a",
      "outputs": [
        {
          "output_type": "stream",
          "name": "stderr",
          "text": [
            "/usr/local/lib/python3.11/dist-packages/huggingface_hub/utils/_auth.py:94: UserWarning: \n",
            "The secret `HF_TOKEN` does not exist in your Colab secrets.\n",
            "To authenticate with the Hugging Face Hub, create a token in your settings tab (https://huggingface.co/settings/tokens), set it as secret in your Google Colab and restart your session.\n",
            "You will be able to reuse this secret in all of your notebooks.\n",
            "Please note that authentication is recommended but still optional to access public models or datasets.\n",
            "  warnings.warn(\n"
          ]
        },
        {
          "output_type": "stream",
          "name": "stdout",
          "text": [
            "['O', 'B-PER', 'I-PER', 'B-ORG', 'I-ORG', 'B-LOC', 'I-LOC']\n"
          ]
        }
      ],
      "execution_count": null
    },
    {
      "metadata": {
        "ExecuteTime": {
          "end_time": "2025-03-27T12:06:48.693487Z",
          "start_time": "2025-03-27T12:06:48.014337Z"
        },
        "id": "208036108855620"
      },
      "cell_type": "code",
      "source": [
        "model_checkpoint = \"camembert-base\"\n",
        "tokenizer = AutoTokenizer.from_pretrained(model_checkpoint)"
      ],
      "id": "208036108855620",
      "outputs": [],
      "execution_count": null
    },
    {
      "metadata": {
        "ExecuteTime": {
          "end_time": "2025-03-27T12:02:20.951724800Z",
          "start_time": "2025-03-27T11:17:41.810245Z"
        },
        "id": "75bfad8364666187",
        "colab": {
          "base_uri": "https://localhost:8080/",
          "height": 49,
          "referenced_widgets": [
            "f07c772baabc4d3d9c1231de325b2cc2",
            "30c4219bd5c34152a54a749ec06e8b9b",
            "d214927c58b64db9a5853c84f28776b4",
            "f9934f86b69c4161b37f67e833c2ec4e",
            "55b7ecad25d84c91a1a117edbcbcfc81",
            "eac660f6474045ad8f9c97360cc4a294",
            "1c8f234438e043ebb8c5ca7fa0799ab0",
            "a65bfadf0a344e4fa0266f2def4dd6ac",
            "2e57da4b711e4feebeeb0b9ab0020e83",
            "afb95124ac954b478f2db3ec70f95521",
            "adebc7de393e43e49c66768019d504b3"
          ]
        },
        "outputId": "4f6c3030-c92d-41b9-a8f4-b40af64fcd66"
      },
      "cell_type": "code",
      "source": [
        "def tokenize_and_align_labels(examples):\n",
        "    tokenized_inputs = tokenizer(examples[\"tokens\"], truncation=True, is_split_into_words=True)\n",
        "    labels = []\n",
        "    for i, label in enumerate(examples[\"ner_tags\"]):\n",
        "        word_ids = tokenized_inputs.word_ids(batch_index=i)\n",
        "        previous_word_idx = None\n",
        "        label_ids = []\n",
        "        for word_idx in word_ids:\n",
        "            if word_idx is None:\n",
        "                label_ids.append(-100)\n",
        "            elif word_idx != previous_word_idx:\n",
        "                label_ids.append(label[word_idx])\n",
        "            else:\n",
        "                label_ids.append(-100)\n",
        "            previous_word_idx = word_idx\n",
        "        labels.append(label_ids)\n",
        "    tokenized_inputs[\"labels\"] = labels\n",
        "    return tokenized_inputs\n",
        "\n",
        "tokenized_datasets = dataset.map(tokenize_and_align_labels, batched=True)\n",
        "data_collator = DataCollatorForTokenClassification(tokenizer=tokenizer)"
      ],
      "id": "75bfad8364666187",
      "outputs": [
        {
          "output_type": "display_data",
          "data": {
            "text/plain": [
              "Map:   0%|          | 0/10000 [00:00<?, ? examples/s]"
            ],
            "application/vnd.jupyter.widget-view+json": {
              "version_major": 2,
              "version_minor": 0,
              "model_id": "f07c772baabc4d3d9c1231de325b2cc2"
            }
          },
          "metadata": {}
        }
      ],
      "execution_count": null
    },
    {
      "cell_type": "code",
      "source": [
        "base_model = AutoModelForTokenClassification.from_pretrained(\n",
        "    model_checkpoint,\n",
        "    num_labels=len(label_list),\n",
        "    id2label=id2label,\n",
        "    label2id=label2id,\n",
        ")"
      ],
      "metadata": {
        "id": "739rIhpjVDOT",
        "colab": {
          "base_uri": "https://localhost:8080/"
        },
        "outputId": "23b8216e-701b-49da-9a38-6c52cff183f6"
      },
      "id": "739rIhpjVDOT",
      "execution_count": null,
      "outputs": [
        {
          "output_type": "stream",
          "name": "stderr",
          "text": [
            "Some weights of CamembertForTokenClassification were not initialized from the model checkpoint at camembert-base and are newly initialized: ['classifier.bias', 'classifier.weight']\n",
            "You should probably TRAIN this model on a down-stream task to be able to use it for predictions and inference.\n"
          ]
        }
      ]
    },
    {
      "metadata": {
        "ExecuteTime": {
          "end_time": "2025-03-27T12:02:20.951724800Z",
          "start_time": "2025-03-27T11:17:43.949818Z"
        },
        "id": "5cd91ffc5f2f8f26",
        "colab": {
          "base_uri": "https://localhost:8080/"
        },
        "outputId": "baa319e6-2730-4dd4-f95d-1f7f8dd00d98"
      },
      "cell_type": "code",
      "source": [
        "# Apply LoRA configuration to the output dense layers\n",
        "peft_config = LoraConfig(\n",
        "    task_type=TaskType.TOKEN_CLS,\n",
        "    r=8,\n",
        "    lora_alpha=16,\n",
        "    lora_dropout=0.1,\n",
        "    bias=\"none\",\n",
        "    target_modules=[\"output.dense\"],\n",
        ")\n",
        "\n",
        "model = get_peft_model(base_model, peft_config)\n",
        "model.print_trainable_parameters()\n",
        "\n",
        "\n",
        "# %%\n",
        "seqeval = evaluate.load(\"seqeval\")"
      ],
      "id": "5cd91ffc5f2f8f26",
      "outputs": [
        {
          "output_type": "stream",
          "name": "stdout",
          "text": [
            "trainable params: 521,479 || all params: 110,558,222 || trainable%: 0.4717\n"
          ]
        }
      ],
      "execution_count": null
    },
    {
      "metadata": {
        "ExecuteTime": {
          "end_time": "2025-03-27T12:02:20.951724800Z",
          "start_time": "2025-03-27T11:17:51.214022Z"
        },
        "id": "9372e3f7d9d2ad92"
      },
      "cell_type": "code",
      "source": [
        "def compute_metrics(p):\n",
        "    predictions, labels = p\n",
        "    predictions = np.argmax(predictions, axis=2)\n",
        "    true_predictions = [\n",
        "        [label_list[p] for (p, l) in zip(prediction, label) if l != -100]\n",
        "        for prediction, label in zip(predictions, labels)\n",
        "    ]\n",
        "    true_labels = [\n",
        "        [label_list[l] for (p, l) in zip(prediction, label) if l != -100]\n",
        "        for prediction, label in zip(predictions, labels)\n",
        "    ]\n",
        "    results = seqeval.compute(predictions=true_predictions, references=true_labels)\n",
        "    return {\n",
        "        \"precision\": results[\"overall_precision\"],\n",
        "        \"recall\": results[\"overall_recall\"],\n",
        "        \"f1\": results[\"overall_f1\"],\n",
        "        \"accuracy\": results[\"overall_accuracy\"],\n",
        "    }\n"
      ],
      "id": "9372e3f7d9d2ad92",
      "outputs": [],
      "execution_count": null
    },
    {
      "cell_type": "code",
      "source": [],
      "metadata": {
        "id": "7j1VsgrhXtFM"
      },
      "id": "7j1VsgrhXtFM",
      "execution_count": null,
      "outputs": []
    },
    {
      "cell_type": "code",
      "source": [],
      "metadata": {
        "id": "vtzlgux5YerK"
      },
      "id": "vtzlgux5YerK",
      "execution_count": null,
      "outputs": []
    },
    {
      "cell_type": "code",
      "source": [
        "import transformers\n",
        "from transformers import TrainingArguments, Trainer, EarlyStoppingCallback\n",
        "\n",
        "training_args = TrainingArguments(\n",
        "    report_to=\"none\",\n",
        "    output_dir=\"./french_ner_model\",\n",
        "    eval_strategy=\"epoch\",                 # <- This is correct\n",
        "    save_strategy=\"epoch\",\n",
        "    learning_rate=2e-5,\n",
        "    per_device_train_batch_size=16,\n",
        "    per_device_eval_batch_size=16,\n",
        "    num_train_epochs=50,\n",
        "    weight_decay=0.01,\n",
        "    logging_dir=\"./logs\",\n",
        "    logging_steps=100,\n",
        "    load_best_model_at_end=True,\n",
        "    metric_for_best_model=\"f1\",\n",
        "    greater_is_better=True\n",
        ")\n",
        "\n",
        "trainer = Trainer(\n",
        "    model=model,\n",
        "    args=training_args,\n",
        "    train_dataset=tokenized_datasets[\"train\"],\n",
        "    eval_dataset=tokenized_datasets[\"validation\"],\n",
        "    tokenizer=tokenizer,\n",
        "    data_collator=data_collator,\n",
        "    compute_metrics=compute_metrics,\n",
        "    callbacks=[EarlyStoppingCallback(early_stopping_patience=3)]\n",
        ")\n"
      ],
      "metadata": {
        "id": "Y77rnEX3mPYU",
        "colab": {
          "base_uri": "https://localhost:8080/"
        },
        "outputId": "50fa29b3-afda-48dd-b268-db166f8f864e"
      },
      "id": "Y77rnEX3mPYU",
      "execution_count": null,
      "outputs": [
        {
          "output_type": "stream",
          "name": "stderr",
          "text": [
            "<ipython-input-10-1373c253ebb1>:21: FutureWarning: `tokenizer` is deprecated and will be removed in version 5.0.0 for `Trainer.__init__`. Use `processing_class` instead.\n",
            "  trainer = Trainer(\n",
            "No label_names provided for model class `PeftModelForTokenClassification`. Since `PeftModel` hides base models input arguments, if label_names is not given, label_names can't be set automatically within `Trainer`. Note that empty label_names list will be used instead.\n"
          ]
        }
      ]
    },
    {
      "metadata": {
        "ExecuteTime": {
          "end_time": "2025-03-27T12:02:20.952726200Z",
          "start_time": "2025-03-27T11:17:51.250272Z"
        },
        "id": "97abededd6683de5",
        "colab": {
          "base_uri": "https://localhost:8080/",
          "height": 1000
        },
        "outputId": "25f16d19-3e68-4ce0-976c-a274009af280"
      },
      "cell_type": "code",
      "source": [
        "trainer.train()"
      ],
      "id": "97abededd6683de5",
      "outputs": [
        {
          "output_type": "display_data",
          "data": {
            "text/plain": [
              "<IPython.core.display.HTML object>"
            ],
            "text/html": [
              "\n",
              "    <div>\n",
              "      \n",
              "      <progress value='56250' max='62500' style='width:300px; height:20px; vertical-align: middle;'></progress>\n",
              "      [56250/62500 48:16 < 05:21, 19.42 it/s, Epoch 45/50]\n",
              "    </div>\n",
              "    <table border=\"1\" class=\"dataframe\">\n",
              "  <thead>\n",
              " <tr style=\"text-align: left;\">\n",
              "      <th>Epoch</th>\n",
              "      <th>Training Loss</th>\n",
              "      <th>Validation Loss</th>\n",
              "      <th>Precision</th>\n",
              "      <th>Recall</th>\n",
              "      <th>F1</th>\n",
              "      <th>Accuracy</th>\n",
              "    </tr>\n",
              "  </thead>\n",
              "  <tbody>\n",
              "    <tr>\n",
              "      <td>1</td>\n",
              "      <td>1.021200</td>\n",
              "      <td>0.951618</td>\n",
              "      <td>0.369571</td>\n",
              "      <td>0.460474</td>\n",
              "      <td>0.410045</td>\n",
              "      <td>0.720009</td>\n",
              "    </tr>\n",
              "    <tr>\n",
              "      <td>2</td>\n",
              "      <td>0.647200</td>\n",
              "      <td>0.606518</td>\n",
              "      <td>0.566313</td>\n",
              "      <td>0.686455</td>\n",
              "      <td>0.620623</td>\n",
              "      <td>0.853401</td>\n",
              "    </tr>\n",
              "    <tr>\n",
              "      <td>3</td>\n",
              "      <td>0.477700</td>\n",
              "      <td>0.423085</td>\n",
              "      <td>0.729187</td>\n",
              "      <td>0.792262</td>\n",
              "      <td>0.759417</td>\n",
              "      <td>0.899736</td>\n",
              "    </tr>\n",
              "    <tr>\n",
              "      <td>4</td>\n",
              "      <td>0.415500</td>\n",
              "      <td>0.351165</td>\n",
              "      <td>0.765202</td>\n",
              "      <td>0.813013</td>\n",
              "      <td>0.788384</td>\n",
              "      <td>0.906508</td>\n",
              "    </tr>\n",
              "    <tr>\n",
              "      <td>5</td>\n",
              "      <td>0.343800</td>\n",
              "      <td>0.312970</td>\n",
              "      <td>0.784874</td>\n",
              "      <td>0.826695</td>\n",
              "      <td>0.805242</td>\n",
              "      <td>0.913105</td>\n",
              "    </tr>\n",
              "    <tr>\n",
              "      <td>6</td>\n",
              "      <td>0.308800</td>\n",
              "      <td>0.290199</td>\n",
              "      <td>0.802453</td>\n",
              "      <td>0.840453</td>\n",
              "      <td>0.821014</td>\n",
              "      <td>0.919437</td>\n",
              "    </tr>\n",
              "    <tr>\n",
              "      <td>7</td>\n",
              "      <td>0.287600</td>\n",
              "      <td>0.280628</td>\n",
              "      <td>0.804262</td>\n",
              "      <td>0.840453</td>\n",
              "      <td>0.821960</td>\n",
              "      <td>0.919422</td>\n",
              "    </tr>\n",
              "    <tr>\n",
              "      <td>8</td>\n",
              "      <td>0.287800</td>\n",
              "      <td>0.269154</td>\n",
              "      <td>0.810492</td>\n",
              "      <td>0.845546</td>\n",
              "      <td>0.827648</td>\n",
              "      <td>0.922134</td>\n",
              "    </tr>\n",
              "    <tr>\n",
              "      <td>9</td>\n",
              "      <td>0.256500</td>\n",
              "      <td>0.263858</td>\n",
              "      <td>0.815950</td>\n",
              "      <td>0.851551</td>\n",
              "      <td>0.833371</td>\n",
              "      <td>0.925095</td>\n",
              "    </tr>\n",
              "    <tr>\n",
              "      <td>10</td>\n",
              "      <td>0.282100</td>\n",
              "      <td>0.256409</td>\n",
              "      <td>0.819288</td>\n",
              "      <td>0.854971</td>\n",
              "      <td>0.836749</td>\n",
              "      <td>0.926605</td>\n",
              "    </tr>\n",
              "    <tr>\n",
              "      <td>11</td>\n",
              "      <td>0.269900</td>\n",
              "      <td>0.254241</td>\n",
              "      <td>0.826730</td>\n",
              "      <td>0.858088</td>\n",
              "      <td>0.842117</td>\n",
              "      <td>0.928408</td>\n",
              "    </tr>\n",
              "    <tr>\n",
              "      <td>12</td>\n",
              "      <td>0.255900</td>\n",
              "      <td>0.248974</td>\n",
              "      <td>0.826147</td>\n",
              "      <td>0.859304</td>\n",
              "      <td>0.842399</td>\n",
              "      <td>0.928819</td>\n",
              "    </tr>\n",
              "    <tr>\n",
              "      <td>13</td>\n",
              "      <td>0.249400</td>\n",
              "      <td>0.246145</td>\n",
              "      <td>0.826641</td>\n",
              "      <td>0.862268</td>\n",
              "      <td>0.844079</td>\n",
              "      <td>0.929493</td>\n",
              "    </tr>\n",
              "    <tr>\n",
              "      <td>14</td>\n",
              "      <td>0.251300</td>\n",
              "      <td>0.241362</td>\n",
              "      <td>0.827699</td>\n",
              "      <td>0.865385</td>\n",
              "      <td>0.846122</td>\n",
              "      <td>0.930973</td>\n",
              "    </tr>\n",
              "    <tr>\n",
              "      <td>15</td>\n",
              "      <td>0.239000</td>\n",
              "      <td>0.242497</td>\n",
              "      <td>0.830282</td>\n",
              "      <td>0.865309</td>\n",
              "      <td>0.847434</td>\n",
              "      <td>0.931047</td>\n",
              "    </tr>\n",
              "    <tr>\n",
              "      <td>16</td>\n",
              "      <td>0.243000</td>\n",
              "      <td>0.235632</td>\n",
              "      <td>0.837469</td>\n",
              "      <td>0.867133</td>\n",
              "      <td>0.852043</td>\n",
              "      <td>0.932703</td>\n",
              "    </tr>\n",
              "    <tr>\n",
              "      <td>17</td>\n",
              "      <td>0.248900</td>\n",
              "      <td>0.235309</td>\n",
              "      <td>0.831449</td>\n",
              "      <td>0.866525</td>\n",
              "      <td>0.848625</td>\n",
              "      <td>0.932234</td>\n",
              "    </tr>\n",
              "    <tr>\n",
              "      <td>18</td>\n",
              "      <td>0.230900</td>\n",
              "      <td>0.235619</td>\n",
              "      <td>0.841158</td>\n",
              "      <td>0.870249</td>\n",
              "      <td>0.855456</td>\n",
              "      <td>0.933495</td>\n",
              "    </tr>\n",
              "    <tr>\n",
              "      <td>19</td>\n",
              "      <td>0.244300</td>\n",
              "      <td>0.229079</td>\n",
              "      <td>0.845242</td>\n",
              "      <td>0.873062</td>\n",
              "      <td>0.858927</td>\n",
              "      <td>0.934960</td>\n",
              "    </tr>\n",
              "    <tr>\n",
              "      <td>20</td>\n",
              "      <td>0.226500</td>\n",
              "      <td>0.230804</td>\n",
              "      <td>0.843959</td>\n",
              "      <td>0.872378</td>\n",
              "      <td>0.857933</td>\n",
              "      <td>0.933876</td>\n",
              "    </tr>\n",
              "    <tr>\n",
              "      <td>21</td>\n",
              "      <td>0.243700</td>\n",
              "      <td>0.227165</td>\n",
              "      <td>0.848813</td>\n",
              "      <td>0.875266</td>\n",
              "      <td>0.861837</td>\n",
              "      <td>0.935459</td>\n",
              "    </tr>\n",
              "    <tr>\n",
              "      <td>22</td>\n",
              "      <td>0.219800</td>\n",
              "      <td>0.226941</td>\n",
              "      <td>0.848186</td>\n",
              "      <td>0.876102</td>\n",
              "      <td>0.861918</td>\n",
              "      <td>0.935503</td>\n",
              "    </tr>\n",
              "    <tr>\n",
              "      <td>23</td>\n",
              "      <td>0.216100</td>\n",
              "      <td>0.226082</td>\n",
              "      <td>0.848308</td>\n",
              "      <td>0.874810</td>\n",
              "      <td>0.861355</td>\n",
              "      <td>0.934785</td>\n",
              "    </tr>\n",
              "    <tr>\n",
              "      <td>24</td>\n",
              "      <td>0.207400</td>\n",
              "      <td>0.224531</td>\n",
              "      <td>0.849205</td>\n",
              "      <td>0.877090</td>\n",
              "      <td>0.862923</td>\n",
              "      <td>0.936030</td>\n",
              "    </tr>\n",
              "    <tr>\n",
              "      <td>25</td>\n",
              "      <td>0.233800</td>\n",
              "      <td>0.223966</td>\n",
              "      <td>0.846878</td>\n",
              "      <td>0.875266</td>\n",
              "      <td>0.860838</td>\n",
              "      <td>0.935620</td>\n",
              "    </tr>\n",
              "    <tr>\n",
              "      <td>26</td>\n",
              "      <td>0.212700</td>\n",
              "      <td>0.225007</td>\n",
              "      <td>0.849193</td>\n",
              "      <td>0.875722</td>\n",
              "      <td>0.862253</td>\n",
              "      <td>0.935664</td>\n",
              "    </tr>\n",
              "    <tr>\n",
              "      <td>27</td>\n",
              "      <td>0.236500</td>\n",
              "      <td>0.222494</td>\n",
              "      <td>0.851901</td>\n",
              "      <td>0.877090</td>\n",
              "      <td>0.864312</td>\n",
              "      <td>0.936485</td>\n",
              "    </tr>\n",
              "    <tr>\n",
              "      <td>28</td>\n",
              "      <td>0.192400</td>\n",
              "      <td>0.223474</td>\n",
              "      <td>0.848869</td>\n",
              "      <td>0.875646</td>\n",
              "      <td>0.862050</td>\n",
              "      <td>0.935972</td>\n",
              "    </tr>\n",
              "    <tr>\n",
              "      <td>29</td>\n",
              "      <td>0.225800</td>\n",
              "      <td>0.220798</td>\n",
              "      <td>0.850586</td>\n",
              "      <td>0.877546</td>\n",
              "      <td>0.863856</td>\n",
              "      <td>0.936441</td>\n",
              "    </tr>\n",
              "    <tr>\n",
              "      <td>30</td>\n",
              "      <td>0.195900</td>\n",
              "      <td>0.218241</td>\n",
              "      <td>0.854244</td>\n",
              "      <td>0.879827</td>\n",
              "      <td>0.866846</td>\n",
              "      <td>0.937496</td>\n",
              "    </tr>\n",
              "    <tr>\n",
              "      <td>31</td>\n",
              "      <td>0.231200</td>\n",
              "      <td>0.220214</td>\n",
              "      <td>0.856044</td>\n",
              "      <td>0.880055</td>\n",
              "      <td>0.867884</td>\n",
              "      <td>0.937130</td>\n",
              "    </tr>\n",
              "    <tr>\n",
              "      <td>32</td>\n",
              "      <td>0.201400</td>\n",
              "      <td>0.216892</td>\n",
              "      <td>0.855886</td>\n",
              "      <td>0.880283</td>\n",
              "      <td>0.867913</td>\n",
              "      <td>0.938053</td>\n",
              "    </tr>\n",
              "    <tr>\n",
              "      <td>33</td>\n",
              "      <td>0.233200</td>\n",
              "      <td>0.217985</td>\n",
              "      <td>0.855077</td>\n",
              "      <td>0.880815</td>\n",
              "      <td>0.867755</td>\n",
              "      <td>0.937833</td>\n",
              "    </tr>\n",
              "    <tr>\n",
              "      <td>34</td>\n",
              "      <td>0.208200</td>\n",
              "      <td>0.217648</td>\n",
              "      <td>0.853777</td>\n",
              "      <td>0.881423</td>\n",
              "      <td>0.867380</td>\n",
              "      <td>0.938068</td>\n",
              "    </tr>\n",
              "    <tr>\n",
              "      <td>35</td>\n",
              "      <td>0.206700</td>\n",
              "      <td>0.216001</td>\n",
              "      <td>0.854659</td>\n",
              "      <td>0.881879</td>\n",
              "      <td>0.868056</td>\n",
              "      <td>0.938391</td>\n",
              "    </tr>\n",
              "    <tr>\n",
              "      <td>36</td>\n",
              "      <td>0.205800</td>\n",
              "      <td>0.216333</td>\n",
              "      <td>0.854907</td>\n",
              "      <td>0.880055</td>\n",
              "      <td>0.867298</td>\n",
              "      <td>0.937907</td>\n",
              "    </tr>\n",
              "    <tr>\n",
              "      <td>37</td>\n",
              "      <td>0.203200</td>\n",
              "      <td>0.217705</td>\n",
              "      <td>0.854570</td>\n",
              "      <td>0.879903</td>\n",
              "      <td>0.867051</td>\n",
              "      <td>0.937570</td>\n",
              "    </tr>\n",
              "    <tr>\n",
              "      <td>38</td>\n",
              "      <td>0.222600</td>\n",
              "      <td>0.214968</td>\n",
              "      <td>0.857830</td>\n",
              "      <td>0.881499</td>\n",
              "      <td>0.869503</td>\n",
              "      <td>0.938640</td>\n",
              "    </tr>\n",
              "    <tr>\n",
              "      <td>39</td>\n",
              "      <td>0.198000</td>\n",
              "      <td>0.217039</td>\n",
              "      <td>0.856308</td>\n",
              "      <td>0.880131</td>\n",
              "      <td>0.868056</td>\n",
              "      <td>0.937819</td>\n",
              "    </tr>\n",
              "    <tr>\n",
              "      <td>40</td>\n",
              "      <td>0.207100</td>\n",
              "      <td>0.214378</td>\n",
              "      <td>0.856543</td>\n",
              "      <td>0.883171</td>\n",
              "      <td>0.869653</td>\n",
              "      <td>0.938816</td>\n",
              "    </tr>\n",
              "    <tr>\n",
              "      <td>41</td>\n",
              "      <td>0.206900</td>\n",
              "      <td>0.213918</td>\n",
              "      <td>0.858484</td>\n",
              "      <td>0.882563</td>\n",
              "      <td>0.870357</td>\n",
              "      <td>0.938948</td>\n",
              "    </tr>\n",
              "    <tr>\n",
              "      <td>42</td>\n",
              "      <td>0.197900</td>\n",
              "      <td>0.214418</td>\n",
              "      <td>0.859308</td>\n",
              "      <td>0.883475</td>\n",
              "      <td>0.871224</td>\n",
              "      <td>0.939079</td>\n",
              "    </tr>\n",
              "    <tr>\n",
              "      <td>43</td>\n",
              "      <td>0.206100</td>\n",
              "      <td>0.214571</td>\n",
              "      <td>0.857670</td>\n",
              "      <td>0.882639</td>\n",
              "      <td>0.869976</td>\n",
              "      <td>0.938698</td>\n",
              "    </tr>\n",
              "    <tr>\n",
              "      <td>44</td>\n",
              "      <td>0.210200</td>\n",
              "      <td>0.214046</td>\n",
              "      <td>0.857248</td>\n",
              "      <td>0.882791</td>\n",
              "      <td>0.869832</td>\n",
              "      <td>0.938698</td>\n",
              "    </tr>\n",
              "    <tr>\n",
              "      <td>45</td>\n",
              "      <td>0.186700</td>\n",
              "      <td>0.214334</td>\n",
              "      <td>0.858230</td>\n",
              "      <td>0.883019</td>\n",
              "      <td>0.870448</td>\n",
              "      <td>0.938669</td>\n",
              "    </tr>\n",
              "  </tbody>\n",
              "</table><p>"
            ]
          },
          "metadata": {}
        },
        {
          "output_type": "execute_result",
          "data": {
            "text/plain": [
              "TrainOutput(global_step=56250, training_loss=0.27917152130126954, metrics={'train_runtime': 2897.1964, 'train_samples_per_second': 345.161, 'train_steps_per_second': 21.573, 'total_flos': 1.421471087485152e+16, 'train_loss': 0.27917152130126954, 'epoch': 45.0})"
            ]
          },
          "metadata": {},
          "execution_count": 11
        }
      ],
      "execution_count": null
    },
    {
      "cell_type": "code",
      "source": [
        "import matplotlib.pyplot as plt\n",
        "\n",
        "# Extract values from the training log\n",
        "log_history = trainer.state.log_history\n",
        "\n",
        "# Collect training loss and evaluation loss per epoch\n",
        "train_loss = [entry[\"loss\"] for entry in log_history if \"loss\" in entry and \"epoch\" in entry]\n",
        "eval_loss = [entry[\"eval_loss\"] for entry in log_history if \"eval_loss\" in entry and \"epoch\" in entry]\n",
        "epochs_train = [entry[\"epoch\"] for entry in log_history if \"loss\" in entry and \"epoch\" in entry]\n",
        "epochs_eval = [entry[\"epoch\"] for entry in log_history if \"eval_loss\" in entry and \"epoch\" in entry]\n",
        "\n",
        "# Plot loss vs epoch\n",
        "plt.figure(figsize=(12, 6))\n",
        "plt.plot(epochs_train, train_loss, label=\"Training Loss\")\n",
        "plt.plot(epochs_eval, eval_loss, label=\"Validation Loss\")\n",
        "plt.xlabel(\"Epoch\")\n",
        "plt.ylabel(\"Loss\")\n",
        "plt.title(\"Training and Validation Loss per Epoch\")\n",
        "plt.legend()\n",
        "plt.grid(True)\n",
        "plt.show()\n"
      ],
      "metadata": {
        "id": "CYLYBb6nhIWS",
        "colab": {
          "base_uri": "https://localhost:8080/",
          "height": 380
        },
        "outputId": "cf7d253a-9ed3-4789-b580-97f1cfc742bb"
      },
      "id": "CYLYBb6nhIWS",
      "execution_count": null,
      "outputs": [
        {
          "output_type": "display_data",
          "data": {
            "text/plain": [
              "<Figure size 1200x600 with 1 Axes>"
            ],
            "image/png": "[encoded data removed]"
          },
          "metadata": {}
        }
      ]
    },
    {
      "cell_type": "code",
      "source": [
        "import matplotlib.pyplot as plt\n",
        "\n",
        "# Log history from training\n",
        "log_history = trainer.state.log_history\n",
        "\n",
        "# Extract training and validation accuracy entries\n",
        "train_acc = [entry[\"accuracy\"] for entry in log_history if \"accuracy\" in entry and \"eval_\" not in entry]\n",
        "eval_acc = [entry[\"eval_accuracy\"] for entry in log_history if \"eval_accuracy\" in entry]\n",
        "steps_train = [entry[\"step\"] for entry in log_history if \"accuracy\" in entry and \"eval_\" not in entry]\n",
        "steps_eval = [entry[\"step\"] for entry in log_history if \"eval_accuracy\" in entry]\n",
        "\n",
        "# Plot\n",
        "plt.figure(figsize=(15, 10))\n",
        "plt.plot(steps_train, train_acc, label=\"Training Accuracy\")\n",
        "plt.plot(steps_eval, eval_acc, label=\"Validation Accuracy\")\n",
        "plt.xlabel(\"Steps\")\n",
        "plt.ylabel(\"Accuracy\")\n",
        "plt.title(\"Training and Validation Accuracy\")\n",
        "plt.legend()\n",
        "plt.grid(True)\n",
        "plt.show()\n"
      ],
      "metadata": {
        "id": "FKxnzbHniFAF",
        "colab": {
          "base_uri": "https://localhost:8080/",
          "height": 479
        },
        "outputId": "41cbf37b-c1a3-46fe-eca9-b88aea0ac094"
      },
      "id": "FKxnzbHniFAF",
      "execution_count": null,
      "outputs": [
        {
          "output_type": "display_data",
          "data": {
            "text/plain": [
              "<Figure size 1500x1000 with 1 Axes>"
            ],
            "image/png": "[encoded data removed]"
          },
          "metadata": {}
        }
      ]
    },
    {
      "cell_type": "code",
      "source": [
        "import matplotlib.pyplot as plt\n",
        "from transformers import EvalPrediction\n",
        "import numpy as np\n",
        "import torch\n",
        "from tqdm import tqdm\n",
        "\n",
        "# Helper: split dataset by epoch based on training size\n",
        "def split_dataset_by_epoch(dataset, num_epochs):\n",
        "    dataset_size = len(dataset)\n",
        "    size_per_epoch = dataset_size // num_epochs\n",
        "    return [dataset.select(range(i * size_per_epoch, (i + 1) * size_per_epoch)) for i in range(num_epochs)]\n",
        "\n",
        "# Load log history\n",
        "log_history = trainer.state.log_history\n",
        "num_epochs = int(max(entry[\"epoch\"] for entry in log_history if \"epoch\" in entry))\n",
        "\n",
        "# Extract validation accuracy per epoch\n",
        "val_acc = [entry[\"eval_accuracy\"] for entry in log_history if \"eval_accuracy\" in entry]\n",
        "epochs = list(range(1, len(val_acc) + 1))\n",
        "\n",
        "# Evaluate training accuracy per epoch (by slicing the training set)\n",
        "train_epoch_datasets = split_dataset_by_epoch(tokenized_datasets[\"train\"], num_epochs)\n",
        "train_acc = []\n",
        "\n",
        "print(\"Evaluating training accuracy per epoch...\")\n",
        "\n",
        "for epoch_ds in tqdm(train_epoch_datasets):\n",
        "    preds = trainer.predict(epoch_ds)\n",
        "    acc = compute_metrics(EvalPrediction(predictions=preds.predictions, label_ids=preds.label_ids))[\"accuracy\"]\n",
        "    train_acc.append(acc)\n",
        "\n",
        "min_len = min(len(epochs), len(train_acc), len(val_acc))\n",
        "\n",
        "plt.figure(figsize=(10, 6))\n",
        "plt.plot(epochs[:min_len], train_acc[:min_len], marker='o', label=\"Training Accuracy\")\n",
        "plt.plot(epochs[:min_len], val_acc[:min_len], marker='o', label=\"Validation Accuracy\")\n",
        "plt.xlabel(\"Epoch\")\n",
        "plt.ylabel(\"Accuracy\")\n",
        "plt.title(\"Training vs Validation Accuracy per Epoch\")\n",
        "plt.grid(True)\n",
        "plt.legend()\n",
        "plt.tight_layout()\n",
        "plt.show()\n",
        "\n"
      ],
      "metadata": {
        "colab": {
          "base_uri": "https://localhost:8080/",
          "height": 1000
        },
        "id": "ADML-v5X2hsv",
        "outputId": "d64b5036-ac54-47fc-e0e8-5552d4701bcd"
      },
      "id": "ADML-v5X2hsv",
      "execution_count": null,
      "outputs": [
        {
          "output_type": "stream",
          "name": "stdout",
          "text": [
            "Evaluating training accuracy per epoch...\n"
          ]
        },
        {
          "output_type": "stream",
          "name": "stderr",
          "text": [
            "\r  0%|          | 0/45 [00:00<?, ?it/s]"
          ]
        },
        {
          "output_type": "display_data",
          "data": {
            "text/plain": [
              "<IPython.core.display.HTML object>"
            ],
            "text/html": []
          },
          "metadata": {}
        },
        {
          "output_type": "stream",
          "name": "stderr",
          "text": [
            "\r  2%|▏         | 1/45 [00:00<00:28,  1.55it/s]"
          ]
        },
        {
          "output_type": "display_data",
          "data": {
            "text/plain": [
              "<IPython.core.display.HTML object>"
            ],
            "text/html": []
          },
          "metadata": {}
        },
        {
          "output_type": "stream",
          "name": "stderr",
          "text": [
            "\r  4%|▍         | 2/45 [00:01<00:27,  1.58it/s]"
          ]
        },
        {
          "output_type": "display_data",
          "data": {
            "text/plain": [
              "<IPython.core.display.HTML object>"
            ],
            "text/html": []
          },
          "metadata": {}
        },
        {
          "output_type": "stream",
          "name": "stderr",
          "text": [
            "\r  7%|▋         | 3/45 [00:01<00:26,  1.57it/s]"
          ]
        },
        {
          "output_type": "display_data",
          "data": {
            "text/plain": [
              "<IPython.core.display.HTML object>"
            ],
            "text/html": []
          },
          "metadata": {}
        },
        {
          "output_type": "stream",
          "name": "stderr",
          "text": [
            "\r  9%|▉         | 4/45 [00:02<00:25,  1.60it/s]"
          ]
        },
        {
          "output_type": "display_data",
          "data": {
            "text/plain": [
              "<IPython.core.display.HTML object>"
            ],
            "text/html": []
          },
          "metadata": {}
        },
        {
          "output_type": "stream",
          "name": "stderr",
          "text": [
            "\r 11%|█         | 5/45 [00:03<00:24,  1.64it/s]"
          ]
        },
        {
          "output_type": "display_data",
          "data": {
            "text/plain": [
              "<IPython.core.display.HTML object>"
            ],
            "text/html": []
          },
          "metadata": {}
        },
        {
          "output_type": "stream",
          "name": "stderr",
          "text": [
            "\r 13%|█▎        | 6/45 [00:03<00:23,  1.66it/s]"
          ]
        },
        {
          "output_type": "display_data",
          "data": {
            "text/plain": [
              "<IPython.core.display.HTML object>"
            ],
            "text/html": []
          },
          "metadata": {}
        },
        {
          "output_type": "stream",
          "name": "stderr",
          "text": [
            "\r 16%|█▌        | 7/45 [00:04<00:22,  1.66it/s]"
          ]
        },
        {
          "output_type": "display_data",
          "data": {
            "text/plain": [
              "<IPython.core.display.HTML object>"
            ],
            "text/html": []
          },
          "metadata": {}
        },
        {
          "output_type": "stream",
          "name": "stderr",
          "text": [
            "\r 18%|█▊        | 8/45 [00:04<00:22,  1.65it/s]"
          ]
        },
        {
          "output_type": "display_data",
          "data": {
            "text/plain": [
              "<IPython.core.display.HTML object>"
            ],
            "text/html": []
          },
          "metadata": {}
        },
        {
          "output_type": "stream",
          "name": "stderr",
          "text": [
            "\r 20%|██        | 9/45 [00:05<00:21,  1.68it/s]"
          ]
        },
        {
          "output_type": "display_data",
          "data": {
            "text/plain": [
              "<IPython.core.display.HTML object>"
            ],
            "text/html": []
          },
          "metadata": {}
        },
        {
          "output_type": "stream",
          "name": "stderr",
          "text": [
            "\r 22%|██▏       | 10/45 [00:06<00:20,  1.68it/s]"
          ]
        },
        {
          "output_type": "display_data",
          "data": {
            "text/plain": [
              "<IPython.core.display.HTML object>"
            ],
            "text/html": []
          },
          "metadata": {}
        },
        {
          "output_type": "stream",
          "name": "stderr",
          "text": [
            "\r 24%|██▍       | 11/45 [00:06<00:21,  1.61it/s]"
          ]
        },
        {
          "output_type": "display_data",
          "data": {
            "text/plain": [
              "<IPython.core.display.HTML object>"
            ],
            "text/html": []
          },
          "metadata": {}
        },
        {
          "output_type": "stream",
          "name": "stderr",
          "text": [
            "\r 27%|██▋       | 12/45 [00:07<00:20,  1.63it/s]"
          ]
        },
        {
          "output_type": "display_data",
          "data": {
            "text/plain": [
              "<IPython.core.display.HTML object>"
            ],
            "text/html": []
          },
          "metadata": {}
        },
        {
          "output_type": "stream",
          "name": "stderr",
          "text": [
            "\r 29%|██▉       | 13/45 [00:07<00:19,  1.65it/s]"
          ]
        },
        {
          "output_type": "display_data",
          "data": {
            "text/plain": [
              "<IPython.core.display.HTML object>"
            ],
            "text/html": []
          },
          "metadata": {}
        },
        {
          "output_type": "stream",
          "name": "stderr",
          "text": [
            "\r 31%|███       | 14/45 [00:08<00:18,  1.65it/s]"
          ]
        },
        {
          "output_type": "display_data",
          "data": {
            "text/plain": [
              "<IPython.core.display.HTML object>"
            ],
            "text/html": []
          },
          "metadata": {}
        },
        {
          "output_type": "stream",
          "name": "stderr",
          "text": [
            "\r 33%|███▎      | 15/45 [00:09<00:18,  1.65it/s]"
          ]
        },
        {
          "output_type": "display_data",
          "data": {
            "text/plain": [
              "<IPython.core.display.HTML object>"
            ],
            "text/html": []
          },
          "metadata": {}
        },
        {
          "output_type": "stream",
          "name": "stderr",
          "text": [
            "\r 36%|███▌      | 16/45 [00:09<00:17,  1.62it/s]"
          ]
        },
        {
          "output_type": "display_data",
          "data": {
            "text/plain": [
              "<IPython.core.display.HTML object>"
            ],
            "text/html": []
          },
          "metadata": {}
        },
        {
          "output_type": "stream",
          "name": "stderr",
          "text": [
            "\r 38%|███▊      | 17/45 [00:10<00:16,  1.65it/s]"
          ]
        },
        {
          "output_type": "display_data",
          "data": {
            "text/plain": [
              "<IPython.core.display.HTML object>"
            ],
            "text/html": []
          },
          "metadata": {}
        },
        {
          "output_type": "stream",
          "name": "stderr",
          "text": [
            "\r 40%|████      | 18/45 [00:10<00:16,  1.68it/s]"
          ]
        },
        {
          "output_type": "display_data",
          "data": {
            "text/plain": [
              "<IPython.core.display.HTML object>"
            ],
            "text/html": []
          },
          "metadata": {}
        },
        {
          "output_type": "stream",
          "name": "stderr",
          "text": [
            "\r 42%|████▏     | 19/45 [00:11<00:15,  1.71it/s]"
          ]
        },
        {
          "output_type": "display_data",
          "data": {
            "text/plain": [
              "<IPython.core.display.HTML object>"
            ],
            "text/html": []
          },
          "metadata": {}
        },
        {
          "output_type": "stream",
          "name": "stderr",
          "text": [
            "\r 44%|████▍     | 20/45 [00:12<00:14,  1.73it/s]"
          ]
        },
        {
          "output_type": "display_data",
          "data": {
            "text/plain": [
              "<IPython.core.display.HTML object>"
            ],
            "text/html": []
          },
          "metadata": {}
        },
        {
          "output_type": "stream",
          "name": "stderr",
          "text": [
            "\r 47%|████▋     | 21/45 [00:12<00:13,  1.72it/s]"
          ]
        },
        {
          "output_type": "display_data",
          "data": {
            "text/plain": [
              "<IPython.core.display.HTML object>"
            ],
            "text/html": []
          },
          "metadata": {}
        },
        {
          "output_type": "stream",
          "name": "stderr",
          "text": [
            "\r 49%|████▉     | 22/45 [00:13<00:13,  1.73it/s]"
          ]
        },
        {
          "output_type": "display_data",
          "data": {
            "text/plain": [
              "<IPython.core.display.HTML object>"
            ],
            "text/html": []
          },
          "metadata": {}
        },
        {
          "output_type": "stream",
          "name": "stderr",
          "text": [
            "\r 51%|█████     | 23/45 [00:14<00:14,  1.54it/s]"
          ]
        },
        {
          "output_type": "display_data",
          "data": {
            "text/plain": [
              "<IPython.core.display.HTML object>"
            ],
            "text/html": []
          },
          "metadata": {}
        },
        {
          "output_type": "stream",
          "name": "stderr",
          "text": [
            "\r 53%|█████▎    | 24/45 [00:14<00:13,  1.59it/s]"
          ]
        },
        {
          "output_type": "display_data",
          "data": {
            "text/plain": [
              "<IPython.core.display.HTML object>"
            ],
            "text/html": []
          },
          "metadata": {}
        },
        {
          "output_type": "stream",
          "name": "stderr",
          "text": [
            "\r 56%|█████▌    | 25/45 [00:15<00:12,  1.62it/s]"
          ]
        },
        {
          "output_type": "display_data",
          "data": {
            "text/plain": [
              "<IPython.core.display.HTML object>"
            ],
            "text/html": []
          },
          "metadata": {}
        },
        {
          "output_type": "stream",
          "name": "stderr",
          "text": [
            "\r 58%|█████▊    | 26/45 [00:15<00:11,  1.64it/s]"
          ]
        },
        {
          "output_type": "display_data",
          "data": {
            "text/plain": [
              "<IPython.core.display.HTML object>"
            ],
            "text/html": []
          },
          "metadata": {}
        },
        {
          "output_type": "stream",
          "name": "stderr",
          "text": [
            "\r 60%|██████    | 27/45 [00:16<00:10,  1.68it/s]"
          ]
        },
        {
          "output_type": "display_data",
          "data": {
            "text/plain": [
              "<IPython.core.display.HTML object>"
            ],
            "text/html": []
          },
          "metadata": {}
        },
        {
          "output_type": "stream",
          "name": "stderr",
          "text": [
            "\r 62%|██████▏   | 28/45 [00:16<00:09,  1.70it/s]"
          ]
        },
        {
          "output_type": "display_data",
          "data": {
            "text/plain": [
              "<IPython.core.display.HTML object>"
            ],
            "text/html": []
          },
          "metadata": {}
        },
        {
          "output_type": "stream",
          "name": "stderr",
          "text": [
            "\r 64%|██████▍   | 29/45 [00:17<00:09,  1.71it/s]"
          ]
        },
        {
          "output_type": "display_data",
          "data": {
            "text/plain": [
              "<IPython.core.display.HTML object>"
            ],
            "text/html": []
          },
          "metadata": {}
        },
        {
          "output_type": "stream",
          "name": "stderr",
          "text": [
            "\r 67%|██████▋   | 30/45 [00:18<00:08,  1.72it/s]"
          ]
        },
        {
          "output_type": "display_data",
          "data": {
            "text/plain": [
              "<IPython.core.display.HTML object>"
            ],
            "text/html": []
          },
          "metadata": {}
        },
        {
          "output_type": "stream",
          "name": "stderr",
          "text": [
            "\r 69%|██████▉   | 31/45 [00:18<00:08,  1.71it/s]"
          ]
        },
        {
          "output_type": "display_data",
          "data": {
            "text/plain": [
              "<IPython.core.display.HTML object>"
            ],
            "text/html": []
          },
          "metadata": {}
        },
        {
          "output_type": "stream",
          "name": "stderr",
          "text": [
            "\r 71%|███████   | 32/45 [00:19<00:07,  1.70it/s]"
          ]
        },
        {
          "output_type": "display_data",
          "data": {
            "text/plain": [
              "<IPython.core.display.HTML object>"
            ],
            "text/html": []
          },
          "metadata": {}
        },
        {
          "output_type": "stream",
          "name": "stderr",
          "text": [
            "\r 73%|███████▎  | 33/45 [00:19<00:07,  1.69it/s]"
          ]
        },
        {
          "output_type": "display_data",
          "data": {
            "text/plain": [
              "<IPython.core.display.HTML object>"
            ],
            "text/html": []
          },
          "metadata": {}
        },
        {
          "output_type": "stream",
          "name": "stderr",
          "text": [
            "\r 76%|███████▌  | 34/45 [00:20<00:06,  1.70it/s]"
          ]
        },
        {
          "output_type": "display_data",
          "data": {
            "text/plain": [
              "<IPython.core.display.HTML object>"
            ],
            "text/html": []
          },
          "metadata": {}
        },
        {
          "output_type": "stream",
          "name": "stderr",
          "text": [
            "\r 78%|███████▊  | 35/45 [00:21<00:05,  1.71it/s]"
          ]
        },
        {
          "output_type": "display_data",
          "data": {
            "text/plain": [
              "<IPython.core.display.HTML object>"
            ],
            "text/html": []
          },
          "metadata": {}
        },
        {
          "output_type": "stream",
          "name": "stderr",
          "text": [
            "\r 80%|████████  | 36/45 [00:21<00:05,  1.69it/s]"
          ]
        },
        {
          "output_type": "display_data",
          "data": {
            "text/plain": [
              "<IPython.core.display.HTML object>"
            ],
            "text/html": []
          },
          "metadata": {}
        },
        {
          "output_type": "stream",
          "name": "stderr",
          "text": [
            "\r 82%|████████▏ | 37/45 [00:22<00:04,  1.71it/s]"
          ]
        },
        {
          "output_type": "display_data",
          "data": {
            "text/plain": [
              "<IPython.core.display.HTML object>"
            ],
            "text/html": []
          },
          "metadata": {}
        },
        {
          "output_type": "stream",
          "name": "stderr",
          "text": [
            "\r 84%|████████▍ | 38/45 [00:22<00:04,  1.72it/s]"
          ]
        },
        {
          "output_type": "display_data",
          "data": {
            "text/plain": [
              "<IPython.core.display.HTML object>"
            ],
            "text/html": []
          },
          "metadata": {}
        },
        {
          "output_type": "stream",
          "name": "stderr",
          "text": [
            "\r 87%|████████▋ | 39/45 [00:23<00:03,  1.71it/s]"
          ]
        },
        {
          "output_type": "display_data",
          "data": {
            "text/plain": [
              "<IPython.core.display.HTML object>"
            ],
            "text/html": []
          },
          "metadata": {}
        },
        {
          "output_type": "stream",
          "name": "stderr",
          "text": [
            "\r 89%|████████▉ | 40/45 [00:23<00:02,  1.71it/s]"
          ]
        },
        {
          "output_type": "display_data",
          "data": {
            "text/plain": [
              "<IPython.core.display.HTML object>"
            ],
            "text/html": []
          },
          "metadata": {}
        },
        {
          "output_type": "stream",
          "name": "stderr",
          "text": [
            "\r 91%|█████████ | 41/45 [00:24<00:02,  1.72it/s]"
          ]
        },
        {
          "output_type": "display_data",
          "data": {
            "text/plain": [
              "<IPython.core.display.HTML object>"
            ],
            "text/html": []
          },
          "metadata": {}
        },
        {
          "output_type": "stream",
          "name": "stderr",
          "text": [
            "\r 93%|█████████▎| 42/45 [00:25<00:01,  1.72it/s]"
          ]
        },
        {
          "output_type": "display_data",
          "data": {
            "text/plain": [
              "<IPython.core.display.HTML object>"
            ],
            "text/html": []
          },
          "metadata": {}
        },
        {
          "output_type": "stream",
          "name": "stderr",
          "text": [
            "\r 96%|█████████▌| 43/45 [00:25<00:01,  1.71it/s]"
          ]
        },
        {
          "output_type": "display_data",
          "data": {
            "text/plain": [
              "<IPython.core.display.HTML object>"
            ],
            "text/html": []
          },
          "metadata": {}
        },
        {
          "output_type": "stream",
          "name": "stderr",
          "text": [
            "\r 98%|█████████▊| 44/45 [00:26<00:00,  1.69it/s]"
          ]
        },
        {
          "output_type": "display_data",
          "data": {
            "text/plain": [
              "<IPython.core.display.HTML object>"
            ],
            "text/html": []
          },
          "metadata": {}
        },
        {
          "output_type": "stream",
          "name": "stderr",
          "text": [
            "100%|██████████| 45/45 [00:26<00:00,  1.67it/s]\n"
          ]
        },
        {
          "output_type": "display_data",
          "data": {
            "text/plain": [
              "<Figure size 1000x600 with 1 Axes>"
            ],
            "image/png": "[encoded data removed]"
          },
          "metadata": {}
        }
      ]
    },
    {
      "metadata": {
        "id": "859b7223bbce8db",
        "colab": {
          "base_uri": "https://localhost:8080/"
        },
        "outputId": "6770214e-a378-4602-f571-b053d660730b"
      },
      "cell_type": "code",
      "outputs": [
        {
          "output_type": "execute_result",
          "data": {
            "text/plain": [
              "('./french_ner_modelV3/tokenizer_config.json',\n",
              " './french_ner_modelV3/special_tokens_map.json',\n",
              " './french_ner_modelV3/sentencepiece.bpe.model',\n",
              " './french_ner_modelV3/added_tokens.json',\n",
              " './french_ner_modelV3/tokenizer.json')"
            ]
          },
          "metadata": {},
          "execution_count": 14
        }
      ],
      "execution_count": null,
      "source": [
        "model.save_pretrained(\"./french_ner_modelV3\")\n",
        "tokenizer.save_pretrained(\"./french_ner_modelV3\")"
      ],
      "id": "859b7223bbce8db"
    },
    {
      "cell_type": "code",
      "source": [
        "import shutil\n",
        "shutil.make_archive(\"french_ner_modelV3\", 'zip', \"./french_ner_modelV3\")"
      ],
      "metadata": {
        "id": "REJkncr6oY5M",
        "colab": {
          "base_uri": "https://localhost:8080/",
          "height": 35
        },
        "outputId": "a1b6ab9b-1951-4912-c5a9-0e89d9e92fea"
      },
      "id": "REJkncr6oY5M",
      "execution_count": null,
      "outputs": [
        {
          "output_type": "execute_result",
          "data": {
            "text/plain": [
              "'/content/french_ner_modelV3.zip'"
            ],
            "application/vnd.google.colaboratory.intrinsic+json": {
              "type": "string"
            }
          },
          "metadata": {},
          "execution_count": 15
        }
      ]
    },
    {
      "cell_type": "code",
      "source": [
        "from google.colab import files\n",
        "files.download(\"french_ner_modelV3.zip\")"
      ],
      "metadata": {
        "id": "lWX6TvhAno7L",
        "colab": {
          "base_uri": "https://localhost:8080/",
          "height": 17
        },
        "outputId": "753e5eea-a4e1-4557-e869-b463b227559f"
      },
      "execution_count": null,
      "outputs": [
        {
          "output_type": "display_data",
          "data": {
            "text/plain": [
              "<IPython.core.display.Javascript object>"
            ],
            "application/javascript": [
              "\n",
              "    async function download(id, filename, size) {\n",
              "      if (!google.colab.kernel.accessAllowed) {\n",
              "        return;\n",
              "      }\n",
              "      const div = document.createElement('div');\n",
              "      const label = document.createElement('label');\n",
              "      label.textContent = `Downloading \"${filename}\": `;\n",
              "      div.appendChild(label);\n",
              "      const progress = document.createElement('progress');\n",
              "      progress.max = size;\n",
              "      div.appendChild(progress);\n",
              "      document.body.appendChild(div);\n",
              "\n",
              "      const buffers = [];\n",
              "      let downloaded = 0;\n",
              "\n",
              "      const channel = await google.colab.kernel.comms.open(id);\n",
              "      // Send a message to notify the kernel that we're ready.\n",
              "      channel.send({})\n",
              "\n",
              "      for await (const message of channel.messages) {\n",
              "        // Send a message to notify the kernel that we're ready.\n",
              "        channel.send({})\n",
              "        if (message.buffers) {\n",
              "          for (const buffer of message.buffers) {\n",
              "            buffers.push(buffer);\n",
              "            downloaded += buffer.byteLength;\n",
              "            progress.value = downloaded;\n",
              "          }\n",
              "        }\n",
              "      }\n",
              "      const blob = new Blob(buffers, {type: 'application/binary'});\n",
              "      const a = document.createElement('a');\n",
              "      a.href = window.URL.createObjectURL(blob);\n",
              "      a.download = filename;\n",
              "      div.appendChild(a);\n",
              "      a.click();\n",
              "      div.remove();\n",
              "    }\n",
              "  "
            ]
          },
          "metadata": {}
        },
        {
          "output_type": "display_data",
          "data": {
            "text/plain": [
              "<IPython.core.display.Javascript object>"
            ],
            "application/javascript": [
              "download(\"download_28c16aac-5b69-495b-8172-23df551e1c3e\", \"french_ner_modelV3.zip\", 2949578)"
            ]
          },
          "metadata": {}
        }
      ],
      "id": "lWX6TvhAno7L"
    },
    {
      "cell_type": "code",
      "source": [
        "from sklearn.metrics import classification_report, confusion_matrix\n",
        "import numpy as np\n",
        "import pandas as pd\n",
        "import seaborn as sns\n",
        "import matplotlib.pyplot as plt\n",
        "\n",
        "# Evaluate the model on the validation set\n",
        "predictions = trainer.predict(tokenized_datasets[\"validation\"])\n",
        "preds = np.argmax(predictions.predictions, axis=2)\n",
        "labels = predictions.label_ids\n"
      ],
      "metadata": {
        "colab": {
          "base_uri": "https://localhost:8080/",
          "height": 17
        },
        "id": "PwpjLI-X6r0a",
        "outputId": "287c4d91-2a3e-4b47-afb5-6be38e35c3b2"
      },
      "id": "PwpjLI-X6r0a",
      "execution_count": null,
      "outputs": [
        {
          "output_type": "display_data",
          "data": {
            "text/plain": [
              "<IPython.core.display.HTML object>"
            ],
            "text/html": []
          },
          "metadata": {}
        }
      ]
    },
    {
      "cell_type": "code",
      "source": [
        "true_preds = []\n",
        "true_labels = []\n",
        "\n",
        "for pred_seq, label_seq in zip(preds, labels):\n",
        "    for p, l in zip(pred_seq, label_seq):\n",
        "        if l != -100:\n",
        "            true_preds.append(label_list[p])\n",
        "            true_labels.append(label_list[l])\n"
      ],
      "metadata": {
        "id": "qSxMhEZi6uKX"
      },
      "id": "qSxMhEZi6uKX",
      "execution_count": null,
      "outputs": []
    },
    {
      "cell_type": "code",
      "source": [
        "from sklearn.metrics import classification_report\n",
        "\n",
        "print(classification_report(true_labels, true_preds, digits=4))\n"
      ],
      "metadata": {
        "colab": {
          "base_uri": "https://localhost:8080/"
        },
        "id": "D-ljpWFw6wQG",
        "outputId": "5f36a959-9ad8-4a70-fe39-7317d763a8e4"
      },
      "id": "D-ljpWFw6wQG",
      "execution_count": null,
      "outputs": [
        {
          "output_type": "stream",
          "name": "stdout",
          "text": [
            "              precision    recall  f1-score   support\n",
            "\n",
            "       B-LOC     0.9098    0.9236    0.9166      4840\n",
            "       B-ORG     0.8624    0.8652    0.8638      3910\n",
            "       B-PER     0.9363    0.9335    0.9349      4406\n",
            "       I-LOC     0.8981    0.8672    0.8824      5986\n",
            "       I-ORG     0.8825    0.9073    0.8948     10491\n",
            "       I-PER     0.9305    0.8924    0.9110      6420\n",
            "           O     0.9811    0.9842    0.9827     32167\n",
            "\n",
            "    accuracy                         0.9391     68220\n",
            "   macro avg     0.9144    0.9105    0.9123     68220\n",
            "weighted avg     0.9392    0.9391    0.9390     68220\n",
            "\n"
          ]
        }
      ]
    },
    {
      "cell_type": "code",
      "source": [
        "from sklearn.metrics import ConfusionMatrixDisplay\n",
        "\n",
        "labels_unique = sorted(list(set(true_labels + true_preds)))\n",
        "cm = confusion_matrix(true_labels, true_preds, labels=labels_unique)\n",
        "\n",
        "disp = ConfusionMatrixDisplay(confusion_matrix=cm, display_labels=labels_unique)\n",
        "fig, ax = plt.subplots(figsize=(12, 10))\n",
        "disp.plot(ax=ax, xticks_rotation=45, cmap=\"Blues\", colorbar=False)\n",
        "plt.title(\"Confusion Matrix\")\n",
        "plt.tight_layout()\n",
        "plt.show()\n"
      ],
      "metadata": {
        "id": "VMI_zoCl65Vo",
        "outputId": "077738e1-86ee-4c5c-934a-42f74e88832d",
        "colab": {
          "base_uri": "https://localhost:8080/",
          "height": 701
        }
      },
      "id": "VMI_zoCl65Vo",
      "execution_count": null,
      "outputs": [
        {
          "output_type": "display_data",
          "data": {
            "text/plain": [
              "<Figure size 1200x1000 with 1 Axes>"
            ],
            "image/png": "[encoded data removed]"
          },
          "metadata": {}
        }
      ]
    }
  ],
  "metadata": {
    "kernelspec": {
      "display_name": "Python 3",
      "name": "python3"
    },
    "language_info": {
      "codemirror_mode": {
        "name": "ipython",
        "version": 2
      },
      "file_extension": ".py",
      "mimetype": "text/x-python",
      "name": "python",
      "nbconvert_exporter": "python",
      "pygments_lexer": "ipython2",
      "version": "2.7.6"
    },
    "colab": {
      "provenance": [],
      "gpuType": "A100",
      "toc_visible": true
    },
    "accelerator": "GPU",
    "widgets": {
      "application/vnd.jupyter.widget-state+json": {
        "f07c772baabc4d3d9c1231de325b2cc2": {
          "model_module": "@jupyter-widgets/controls",
          "model_name": "HBoxModel",
          "model_module_version": "1.5.0",
          "state": {
            "_dom_classes": [],
            "_model_module": "@jupyter-widgets/controls",
            "_model_module_version": "1.5.0",
            "_model_name": "HBoxModel",
            "_view_count": null,
            "_view_module": "@jupyter-widgets/controls",
            "_view_module_version": "1.5.0",
            "_view_name": "HBoxView",
            "box_style": "",
            "children": [
              "IPY_MODEL_30c4219bd5c34152a54a749ec06e8b9b",
              "IPY_MODEL_d214927c58b64db9a5853c84f28776b4",
              "IPY_MODEL_f9934f86b69c4161b37f67e833c2ec4e"
            ],
            "layout": "IPY_MODEL_55b7ecad25d84c91a1a117edbcbcfc81"
          }
        },
        "30c4219bd5c34152a54a749ec06e8b9b": {
          "model_module": "@jupyter-widgets/controls",
          "model_name": "HTMLModel",
          "model_module_version": "1.5.0",
          "state": {
            "_dom_classes": [],
            "_model_module": "@jupyter-widgets/controls",
            "_model_module_version": "1.5.0",
            "_model_name": "HTMLModel",
            "_view_count": null,
            "_view_module": "@jupyter-widgets/controls",
            "_view_module_version": "1.5.0",
            "_view_name": "HTMLView",
            "description": "",
            "description_tooltip": null,
            "layout": "IPY_MODEL_eac660f6474045ad8f9c97360cc4a294",
            "placeholder": "​",
            "style": "IPY_MODEL_1c8f234438e043ebb8c5ca7fa0799ab0",
            "value": "Map: 100%"
          }
        },
        "d214927c58b64db9a5853c84f28776b4": {
          "model_module": "@jupyter-widgets/controls",
          "model_name": "FloatProgressModel",
          "model_module_version": "1.5.0",
          "state": {
            "_dom_classes": [],
            "_model_module": "@jupyter-widgets/controls",
            "_model_module_version": "1.5.0",
            "_model_name": "FloatProgressModel",
            "_view_count": null,
            "_view_module": "@jupyter-widgets/controls",
            "_view_module_version": "1.5.0",
            "_view_name": "ProgressView",
            "bar_style": "success",
            "description": "",
            "description_tooltip": null,
            "layout": "IPY_MODEL_a65bfadf0a344e4fa0266f2def4dd6ac",
            "max": 10000,
            "min": 0,
            "orientation": "horizontal",
            "style": "IPY_MODEL_2e57da4b711e4feebeeb0b9ab0020e83",
            "value": 10000
          }
        },
        "f9934f86b69c4161b37f67e833c2ec4e": {
          "model_module": "@jupyter-widgets/controls",
          "model_name": "HTMLModel",
          "model_module_version": "1.5.0",
          "state": {
            "_dom_classes": [],
            "_model_module": "@jupyter-widgets/controls",
            "_model_module_version": "1.5.0",
            "_model_name": "HTMLModel",
            "_view_count": null,
            "_view_module": "@jupyter-widgets/controls",
            "_view_module_version": "1.5.0",
            "_view_name": "HTMLView",
            "description": "",
            "description_tooltip": null,
            "layout": "IPY_MODEL_afb95124ac954b478f2db3ec70f95521",
            "placeholder": "​",
            "style": "IPY_MODEL_adebc7de393e43e49c66768019d504b3",
            "value": " 10000/10000 [00:00&lt;00:00, 10584.28 examples/s]"
          }
        },
        "55b7ecad25d84c91a1a117edbcbcfc81": {
          "model_module": "@jupyter-widgets/base",
          "model_name": "LayoutModel",
          "model_module_version": "1.2.0",
          "state": {
            "_model_module": "@jupyter-widgets/base",
            "_model_module_version": "1.2.0",
            "_model_name": "LayoutModel",
            "_view_count": null,
            "_view_module": "@jupyter-widgets/base",
            "_view_module_version": "1.2.0",
            "_view_name": "LayoutView",
            "align_content": null,
            "align_items": null,
            "align_self": null,
            "border": null,
            "bottom": null,
            "display": null,
            "flex": null,
            "flex_flow": null,
            "grid_area": null,
            "grid_auto_columns": null,
            "grid_auto_flow": null,
            "grid_auto_rows": null,
            "grid_column": null,
            "grid_gap": null,
            "grid_row": null,
            "grid_template_areas": null,
            "grid_template_columns": null,
            "grid_template_rows": null,
            "height": null,
            "justify_content": null,
            "justify_items": null,
            "left": null,
            "margin": null,
            "max_height": null,
            "max_width": null,
            "min_height": null,
            "min_width": null,
            "object_fit": null,
            "object_position": null,
            "order": null,
            "overflow": null,
            "overflow_x": null,
            "overflow_y": null,
            "padding": null,
            "right": null,
            "top": null,
            "visibility": null,
            "width": null
          }
        },
        "eac660f6474045ad8f9c97360cc4a294": {
          "model_module": "@jupyter-widgets/base",
          "model_name": "LayoutModel",
          "model_module_version": "1.2.0",
          "state": {
            "_model_module": "@jupyter-widgets/base",
            "_model_module_version": "1.2.0",
            "_model_name": "LayoutModel",
            "_view_count": null,
            "_view_module": "@jupyter-widgets/base",
            "_view_module_version": "1.2.0",
            "_view_name": "LayoutView",
            "align_content": null,
            "align_items": null,
            "align_self": null,
            "border": null,
            "bottom": null,
            "display": null,
            "flex": null,
            "flex_flow": null,
            "grid_area": null,
            "grid_auto_columns": null,
            "grid_auto_flow": null,
            "grid_auto_rows": null,
            "grid_column": null,
            "grid_gap": null,
            "grid_row": null,
            "grid_template_areas": null,
            "grid_template_columns": null,
            "grid_template_rows": null,
            "height": null,
            "justify_content": null,
            "justify_items": null,
            "left": null,
            "margin": null,
            "max_height": null,
            "max_width": null,
            "min_height": null,
            "min_width": null,
            "object_fit": null,
            "object_position": null,
            "order": null,
            "overflow": null,
            "overflow_x": null,
            "overflow_y": null,
            "padding": null,
            "right": null,
            "top": null,
            "visibility": null,
            "width": null
          }
        },
        "1c8f234438e043ebb8c5ca7fa0799ab0": {
          "model_module": "@jupyter-widgets/controls",
          "model_name": "DescriptionStyleModel",
          "model_module_version": "1.5.0",
          "state": {
            "_model_module": "@jupyter-widgets/controls",
            "_model_module_version": "1.5.0",
            "_model_name": "DescriptionStyleModel",
            "_view_count": null,
            "_view_module": "@jupyter-widgets/base",
            "_view_module_version": "1.2.0",
            "_view_name": "StyleView",
            "description_width": ""
          }
        },
        "a65bfadf0a344e4fa0266f2def4dd6ac": {
          "model_module": "@jupyter-widgets/base",
          "model_name": "LayoutModel",
          "model_module_version": "1.2.0",
          "state": {
            "_model_module": "@jupyter-widgets/base",
            "_model_module_version": "1.2.0",
            "_model_name": "LayoutModel",
            "_view_count": null,
            "_view_module": "@jupyter-widgets/base",
            "_view_module_version": "1.2.0",
            "_view_name": "LayoutView",
            "align_content": null,
            "align_items": null,
            "align_self": null,
            "border": null,
            "bottom": null,
            "display": null,
            "flex": null,
            "flex_flow": null,
            "grid_area": null,
            "grid_auto_columns": null,
            "grid_auto_flow": null,
            "grid_auto_rows": null,
            "grid_column": null,
            "grid_gap": null,
            "grid_row": null,
            "grid_template_areas": null,
            "grid_template_columns": null,
            "grid_template_rows": null,
            "height": null,
            "justify_content": null,
            "justify_items": null,
            "left": null,
            "margin": null,
            "max_height": null,
            "max_width": null,
            "min_height": null,
            "min_width": null,
            "object_fit": null,
            "object_position": null,
            "order": null,
            "overflow": null,
            "overflow_x": null,
            "overflow_y": null,
            "padding": null,
            "right": null,
            "top": null,
            "visibility": null,
            "width": null
          }
        },
        "2e57da4b711e4feebeeb0b9ab0020e83": {
          "model_module": "@jupyter-widgets/controls",
          "model_name": "ProgressStyleModel",
          "model_module_version": "1.5.0",
          "state": {
            "_model_module": "@jupyter-widgets/controls",
            "_model_module_version": "1.5.0",
            "_model_name": "ProgressStyleModel",
            "_view_count": null,
            "_view_module": "@jupyter-widgets/base",
            "_view_module_version": "1.2.0",
            "_view_name": "StyleView",
            "bar_color": null,
            "description_width": ""
          }
        },
        "afb95124ac954b478f2db3ec70f95521": {
          "model_module": "@jupyter-widgets/base",
          "model_name": "LayoutModel",
          "model_module_version": "1.2.0",
          "state": {
            "_model_module": "@jupyter-widgets/base",
            "_model_module_version": "1.2.0",
            "_model_name": "LayoutModel",
            "_view_count": null,
            "_view_module": "@jupyter-widgets/base",
            "_view_module_version": "1.2.0",
            "_view_name": "LayoutView",
            "align_content": null,
            "align_items": null,
            "align_self": null,
            "border": null,
            "bottom": null,
            "display": null,
            "flex": null,
            "flex_flow": null,
            "grid_area": null,
            "grid_auto_columns": null,
            "grid_auto_flow": null,
            "grid_auto_rows": null,
            "grid_column": null,
            "grid_gap": null,
            "grid_row": null,
            "grid_template_areas": null,
            "grid_template_columns": null,
            "grid_template_rows": null,
            "height": null,
            "justify_content": null,
            "justify_items": null,
            "left": null,
            "margin": null,
            "max_height": null,
            "max_width": null,
            "min_height": null,
            "min_width": null,
            "object_fit": null,
            "object_position": null,
            "order": null,
            "overflow": null,
            "overflow_x": null,
            "overflow_y": null,
            "padding": null,
            "right": null,
            "top": null,
            "visibility": null,
            "width": null
          }
        },
        "adebc7de393e43e49c66768019d504b3": {
          "model_module": "@jupyter-widgets/controls",
          "model_name": "DescriptionStyleModel",
          "model_module_version": "1.5.0",
          "state": {
            "_model_module": "@jupyter-widgets/controls",
            "_model_module_version": "1.5.0",
            "_model_name": "DescriptionStyleModel",
            "_view_count": null,
            "_view_module": "@jupyter-widgets/base",
            "_view_module_version": "1.2.0",
            "_view_name": "StyleView",
            "description_width": ""
          }
        }
      }
    }
  },
  "nbformat": 4,
  "nbformat_minor": 5
}