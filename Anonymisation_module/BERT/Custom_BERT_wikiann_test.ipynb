{
 "cells": [
  {
   "metadata": {
    "ExecuteTime": {
     "end_time": "2025-03-27T12:49:31.570408Z",
     "start_time": "2025-03-27T12:49:23.569830Z"
    }
   },
   "cell_type": "code",
   "source": [
    "# %%\n",
    "import torch\n",
    "from transformers import AutoTokenizer, AutoModelForTokenClassification, pipeline\n",
    "\n",
    "# %%\n",
    "# Path to your trained French NER model\n",
    "model_path = \"./french_ner_model\""
   ],
   "id": "7f5ccad39b1c946a",
   "outputs": [
    {
     "name": "stderr",
     "output_type": "stream",
     "text": [
      "C:\\Users\\binja\\AppData\\Local\\Programs\\Python\\Python311\\Lib\\site-packages\\tqdm\\auto.py:21: TqdmWarning: IProgress not found. Please update jupyter and ipywidgets. See https://ipywidgets.readthedocs.io/en/stable/user_install.html\n",
      "  from .autonotebook import tqdm as notebook_tqdm\n"
     ]
    }
   ],
   "execution_count": 1
  },
  {
   "metadata": {
    "ExecuteTime": {
     "end_time": "2025-03-27T12:49:31.874716Z",
     "start_time": "2025-03-27T12:49:31.578667Z"
    }
   },
   "cell_type": "code",
   "source": [
    "\n",
    "# Load tokenizer and model\n",
    "tokenizer = AutoTokenizer.from_pretrained(model_path)\n",
    "model = AutoModelForTokenClassification.from_pretrained(model_path)"
   ],
   "id": "cbbf4c5edf5adcba",
   "outputs": [],
   "execution_count": 2
  },
  {
   "metadata": {
    "ExecuteTime": {
     "end_time": "2025-03-27T12:49:32.316515Z",
     "start_time": "2025-03-27T12:49:32.309601Z"
    }
   },
   "cell_type": "code",
   "source": [
    "\n",
    "# %%\n",
    "# Create NER pipeline with your trained model\n",
    "ner_pipeline = pipeline(\"ner\", model=model, tokenizer=tokenizer, aggregation_strategy=\"simple\")"
   ],
   "id": "a3ddc132f8a73803",
   "outputs": [],
   "execution_count": 3
  },
  {
   "metadata": {
    "ExecuteTime": {
     "end_time": "2025-03-27T12:50:34.321537Z",
     "start_time": "2025-03-27T12:50:34.314565Z"
    }
   },
   "cell_type": "code",
   "source": [
    "\n",
    "# %%\n",
    "# French sample text\n",
    "text = \"\"\"\n",
    "En 2021, le Dr Jonathan Reed et son assistante, Emily Carter, ont mené une expérience non autorisée au centre de recherche Blackwood en Allemagne.\n",
    "L'expérience, appelée Projet Genesis, consistait à exposer dix sujets — tels que Michael Turner et Sarah Williams — à un composé neurochimique non testé.\n",
    "\"\"\""
   ],
   "id": "19b1a5846a65fab6",
   "outputs": [],
   "execution_count": 7
  },
  {
   "metadata": {
    "ExecuteTime": {
     "end_time": "2025-03-27T12:50:35.598255Z",
     "start_time": "2025-03-27T12:50:35.384057Z"
    }
   },
   "cell_type": "code",
   "source": [
    "\n",
    "# %%\n",
    "# Get NER predictions\n",
    "entities = ner_pipeline(text)"
   ],
   "id": "392504b87d5e2a51",
   "outputs": [],
   "execution_count": 8
  },
  {
   "metadata": {
    "ExecuteTime": {
     "end_time": "2025-03-27T12:49:32.573389Z",
     "start_time": "2025-03-27T12:49:32.568395Z"
    }
   },
   "cell_type": "code",
   "source": [
    "\n",
    "# %%\n",
    "# Print entity results\n",
    "for entity in entities:\n",
    "    print(f\"Word: {entity['word']}, Entity: {entity['entity_group']}, Score: {entity['score']:.2f}\")\n"
   ],
   "id": "79565cffdc6ccd4c",
   "outputs": [
    {
     "name": "stdout",
     "output_type": "stream",
     "text": [
      "Word: Emmanuel Macron, Entity: PER, Score: 0.89\n",
      "Word: président, Entity: ORG, Score: 0.58\n",
      "Word: de la République, Entity: PER, Score: 0.51\n",
      "Word: française, Entity: ORG, Score: 0.50\n"
     ]
    }
   ],
   "execution_count": 6
  },
  {
   "metadata": {},
   "cell_type": "code",
   "outputs": [],
   "execution_count": null,
   "source": "",
   "id": "d0e91b27556014d0"
  },
  {
   "metadata": {
    "ExecuteTime": {
     "end_time": "2025-03-27T12:51:55.839661Z",
     "start_time": "2025-03-27T12:51:55.829499Z"
    }
   },
   "cell_type": "code",
   "source": [
    "# %%\n",
    "# Anonymize text by replacing PERS and ORG entities with 'XXX'\n",
    "def anonymize_text(text, entities):\n",
    "    # Sort entities by start index in reverse to safely replace from the end\n",
    "    sorted_entities = sorted(\n",
    "        [e for e in entities if e[\"entity_group\"] in (\"PER\", \"ORG\")],\n",
    "        key=lambda x: x[\"start\"],\n",
    "        reverse=True\n",
    "    )\n",
    "    for entity in sorted_entities:\n",
    "        text = text[:entity[\"start\"]] + \"XXX\" + text[entity[\"end\"]:]\n",
    "    return text\n",
    "\n",
    "# Apply anonymization\n",
    "anonymized_text = anonymize_text(text, entities)\n",
    "\n",
    "# Print result\n",
    "print(anonymized_text)\n"
   ],
   "id": "246f9921438452b2",
   "outputs": [
    {
     "name": "stdout",
     "output_type": "stream",
     "text": [
      "\n",
      "En 2021, le Dr XXX et son assistante, XXX, ont mené une expérience non autorisée au XXX en Allemagne.\n",
      "L'expérience, appelée XXX, consistait à exposer dix sujets — tels que XXX et XXX — à un composé XXX non testé.\n",
      "\n"
     ]
    }
   ],
   "execution_count": 11
  }
 ],
 "metadata": {
  "kernelspec": {
   "display_name": "Python 3",
   "language": "python",
   "name": "python3"
  },
  "language_info": {
   "codemirror_mode": {
    "name": "ipython",
    "version": 2
   },
   "file_extension": ".py",
   "mimetype": "text/x-python",
   "name": "python",
   "nbconvert_exporter": "python",
   "pygments_lexer": "ipython2",
   "version": "2.7.6"
  }
 },
 "nbformat": 4,
 "nbformat_minor": 5
}
