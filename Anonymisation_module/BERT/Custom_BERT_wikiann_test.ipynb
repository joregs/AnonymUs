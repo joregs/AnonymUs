{
 "cells": [
  {
   "metadata": {
    "ExecuteTime": {
     "end_time": "2025-04-10T11:45:26.755732Z",
     "start_time": "2025-04-10T11:45:26.750978Z"
    }
   },
   "cell_type": "code",
   "source": [
    "# %%\n",
    "import torch\n",
    "from transformers import AutoTokenizer, AutoModelForTokenClassification, pipeline\n",
    "\n",
    "# %%\n",
    "# Path to your trained French NER model\n",
    "model_path = \"../deploy/french_ner_model/\""
   ],
   "id": "7f5ccad39b1c946a",
   "outputs": [],
   "execution_count": 4
  },
  {
   "metadata": {
    "ExecuteTime": {
     "end_time": "2025-04-10T11:45:28.125058Z",
     "start_time": "2025-04-10T11:45:27.866761Z"
    }
   },
   "cell_type": "code",
   "source": [
    "\n",
    "# Load tokenizer and model\n",
    "tokenizer = AutoTokenizer.from_pretrained(model_path)\n",
    "model = AutoModelForTokenClassification.from_pretrained(model_path)"
   ],
   "id": "cbbf4c5edf5adcba",
   "outputs": [],
   "execution_count": 5
  },
  {
   "metadata": {
    "ExecuteTime": {
     "end_time": "2025-04-10T11:45:57.270688Z",
     "start_time": "2025-04-10T11:45:57.261139Z"
    }
   },
   "cell_type": "code",
   "source": [
    "\n",
    "# %%\n",
    "# Create NER pipeline with your trained model\n",
    "ner_pipeline = pipeline(\"ner\", model=model, tokenizer=tokenizer, aggregation_strategy=\"simple\")"
   ],
   "id": "a3ddc132f8a73803",
   "outputs": [
    {
     "name": "stderr",
     "output_type": "stream",
     "text": [
      "Device set to use cpu\n"
     ]
    }
   ],
   "execution_count": 9
  },
  {
   "metadata": {
    "ExecuteTime": {
     "end_time": "2025-04-10T11:45:58.649917Z",
     "start_time": "2025-04-10T11:45:58.644155Z"
    }
   },
   "cell_type": "code",
   "source": [
    "\n",
    "# %%\n",
    "# French sample text\n",
    "text = \"\"\"\n",
    "En 2021, le Dr Jonathan Reed et son assistante, Emily Carter, ont mené une expérience non autorisée au centre de recherche Blackwood en Allemagne.\n",
    "L'expérience, appelée Projet Genesis, consistait à exposer dix sujets — tels que Michael Turner et Sarah Williams — à un composé neurochimique non testé.\n",
    "\"\"\""
   ],
   "id": "19b1a5846a65fab6",
   "outputs": [],
   "execution_count": 10
  },
  {
   "metadata": {
    "ExecuteTime": {
     "end_time": "2025-04-10T11:45:59.893336Z",
     "start_time": "2025-04-10T11:45:59.615861Z"
    }
   },
   "cell_type": "code",
   "source": [
    "\n",
    "# %%\n",
    "# Get NER predictions\n",
    "entities = ner_pipeline(text)"
   ],
   "id": "392504b87d5e2a51",
   "outputs": [],
   "execution_count": 11
  },
  {
   "metadata": {
    "ExecuteTime": {
     "end_time": "2025-04-10T11:46:00.948183Z",
     "start_time": "2025-04-10T11:46:00.942369Z"
    }
   },
   "cell_type": "code",
   "source": [
    "\n",
    "# %%\n",
    "# Print entity results\n",
    "for entity in entities:\n",
    "    print(entity)\n"
   ],
   "id": "79565cffdc6ccd4c",
   "outputs": [
    {
     "name": "stdout",
     "output_type": "stream",
     "text": [
      "{'entity_group': 'LOC', 'score': np.float32(0.5343956), 'word': '20', 'start': 4, 'end': 6}\n",
      "{'entity_group': 'LOC', 'score': np.float32(0.53306395), 'word': '21', 'start': 6, 'end': 8}\n",
      "{'entity_group': 'PER', 'score': np.float32(0.9198627), 'word': 'Jonathan Reed', 'start': 16, 'end': 29}\n",
      "{'entity_group': 'PER', 'score': np.float32(0.9221792), 'word': 'Emily Carter', 'start': 49, 'end': 61}\n",
      "{'entity_group': 'ORG', 'score': np.float32(0.8254844), 'word': 'centre de recherche Blackwood', 'start': 104, 'end': 133}\n",
      "{'entity_group': 'LOC', 'score': np.float32(0.8911899), 'word': 'Allemagne', 'start': 137, 'end': 146}\n",
      "{'entity_group': 'ORG', 'score': np.float32(0.8803517), 'word': 'Projet Genesis', 'start': 170, 'end': 184}\n",
      "{'entity_group': 'PER', 'score': np.float32(0.9226653), 'word': 'Michael Turner', 'start': 229, 'end': 243}\n",
      "{'entity_group': 'PER', 'score': np.float32(0.92147684), 'word': 'Sarah Williams', 'start': 247, 'end': 261}\n",
      "{'entity_group': 'ORG', 'score': np.float32(0.42111385), 'word': 'neurochimique', 'start': 277, 'end': 290}\n"
     ]
    }
   ],
   "execution_count": 12
  },
  {
   "metadata": {},
   "cell_type": "code",
   "outputs": [],
   "execution_count": null,
   "source": "",
   "id": "d0e91b27556014d0"
  },
  {
   "metadata": {
    "ExecuteTime": {
     "end_time": "2025-03-27T12:51:55.839661Z",
     "start_time": "2025-03-27T12:51:55.829499Z"
    }
   },
   "cell_type": "code",
   "source": [
    "# %%\n",
    "# Anonymize text by replacing PERS and ORG entities with 'XXX'\n",
    "def anonymize_text(text, entities):\n",
    "    # Sort entities by start index in reverse to safely replace from the end\n",
    "    sorted_entities = sorted(\n",
    "        [e for e in entities if e[\"entity_group\"] in (\"PER\", \"ORG\")],\n",
    "        key=lambda x: x[\"start\"],\n",
    "        reverse=True\n",
    "    )\n",
    "    for entity in sorted_entities:\n",
    "        text = text[:entity[\"start\"]] + \"XXX\" + text[entity[\"end\"]:]\n",
    "    return text\n",
    "\n",
    "# Apply anonymization\n",
    "anonymized_text = anonymize_text(text, entities)\n",
    "\n",
    "# Print result\n",
    "print(anonymized_text)\n"
   ],
   "id": "246f9921438452b2",
   "outputs": [
    {
     "name": "stdout",
     "output_type": "stream",
     "text": [
      "\n",
      "En 2021, le Dr XXX et son assistante, XXX, ont mené une expérience non autorisée au XXX en Allemagne.\n",
      "L'expérience, appelée XXX, consistait à exposer dix sujets — tels que XXX et XXX — à un composé XXX non testé.\n",
      "\n"
     ]
    }
   ],
   "execution_count": 11
  }
 ],
 "metadata": {
  "kernelspec": {
   "display_name": "Python 3",
   "language": "python",
   "name": "python3"
  },
  "language_info": {
   "codemirror_mode": {
    "name": "ipython",
    "version": 2
   },
   "file_extension": ".py",
   "mimetype": "text/x-python",
   "name": "python",
   "nbconvert_exporter": "python",
   "pygments_lexer": "ipython2",
   "version": "2.7.6"
  }
 },
 "nbformat": 4,
 "nbformat_minor": 5
}
