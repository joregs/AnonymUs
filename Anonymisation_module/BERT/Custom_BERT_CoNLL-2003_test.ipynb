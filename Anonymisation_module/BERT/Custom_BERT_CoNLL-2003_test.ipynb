{
 "cells": [
  {
   "metadata": {
    "ExecuteTime": {
     "end_time": "2025-03-27T11:10:21.285630Z",
     "start_time": "2025-03-27T11:10:21.280316Z"
    }
   },
   "cell_type": "code",
   "source": [
    "import torch\n",
    "from transformers import AutoTokenizer, AutoModelForTokenClassification, pipeline"
   ],
   "id": "2fbfe31e9562ca56",
   "outputs": [],
   "execution_count": 4
  },
  {
   "metadata": {
    "ExecuteTime": {
     "end_time": "2025-03-27T11:10:21.427058Z",
     "start_time": "2025-03-27T11:10:21.295643Z"
    }
   },
   "cell_type": "code",
   "source": [
    "model_path = \"./ner_model\"\n",
    "tokenizer = AutoTokenizer.from_pretrained(model_path)\n",
    "model = AutoModelForTokenClassification.from_pretrained(model_path)"
   ],
   "id": "743dbb27340028b0",
   "outputs": [],
   "execution_count": 5
  },
  {
   "metadata": {
    "ExecuteTime": {
     "end_time": "2025-03-27T11:10:21.441185Z",
     "start_time": "2025-03-27T11:10:21.436588Z"
    }
   },
   "cell_type": "code",
   "source": [
    "\n",
    "# Create NER pipeline with your trained model\n",
    "ner_pipeline = pipeline(\"ner\", model=model, tokenizer=tokenizer, aggregation_strategy=\"simple\")"
   ],
   "id": "1c86315b1c0c9426",
   "outputs": [],
   "execution_count": 6
  },
  {
   "metadata": {
    "ExecuteTime": {
     "end_time": "2025-03-27T11:10:21.471090Z",
     "start_time": "2025-03-27T11:10:21.468090Z"
    }
   },
   "cell_type": "code",
   "source": [
    "\n",
    "# Sample text\n",
    "text = \"Elon Musk founded Tesla in California in 2003.\""
   ],
   "id": "6776b5f2bb2c56fb",
   "outputs": [],
   "execution_count": 7
  },
  {
   "metadata": {
    "ExecuteTime": {
     "end_time": "2025-03-27T11:10:21.508709Z",
     "start_time": "2025-03-27T11:10:21.481601Z"
    }
   },
   "cell_type": "code",
   "source": [
    "\n",
    "# Get NER predictions\n",
    "entities = ner_pipeline(text)"
   ],
   "id": "b68c18ab25aaa33e",
   "outputs": [
    {
     "name": "stderr",
     "output_type": "stream",
     "text": [
      "Asking to truncate to max_length but no maximum length is provided and the model has no predefined maximum length. Default to no truncation.\n"
     ]
    }
   ],
   "execution_count": 8
  },
  {
   "metadata": {
    "ExecuteTime": {
     "end_time": "2025-03-27T11:10:21.527490Z",
     "start_time": "2025-03-27T11:10:21.522340Z"
    }
   },
   "cell_type": "code",
   "source": [
    "\n",
    "# Print entity results\n",
    "for entity in entities:\n",
    "    print(f\"Word: {entity['word']}, Entity: {entity['entity_group']}, Score: {entity['score']:.2f}\")\n"
   ],
   "id": "8bb2e395d25d0b3e",
   "outputs": [
    {
     "name": "stdout",
     "output_type": "stream",
     "text": [
      "Word: el, Entity: LABEL_3, Score: 0.65\n",
      "Word: ##on musk, Entity: LABEL_4, Score: 0.73\n",
      "Word: founded, Entity: LABEL_0, Score: 0.99\n",
      "Word: tesla, Entity: LABEL_3, Score: 0.54\n",
      "Word: in, Entity: LABEL_0, Score: 0.99\n",
      "Word: california, Entity: LABEL_5, Score: 0.95\n",
      "Word: in 2003., Entity: LABEL_0, Score: 0.99\n"
     ]
    }
   ],
   "execution_count": 9
  },
  {
   "metadata": {},
   "cell_type": "code",
   "outputs": [],
   "execution_count": null,
   "source": "",
   "id": "20d3f77e025e9a62"
  }
 ],
 "metadata": {
  "kernelspec": {
   "display_name": "Python 3",
   "language": "python",
   "name": "python3"
  },
  "language_info": {
   "codemirror_mode": {
    "name": "ipython",
    "version": 2
   },
   "file_extension": ".py",
   "mimetype": "text/x-python",
   "name": "python",
   "nbconvert_exporter": "python",
   "pygments_lexer": "ipython2",
   "version": "2.7.6"
  }
 },
 "nbformat": 4,
 "nbformat_minor": 5
}
