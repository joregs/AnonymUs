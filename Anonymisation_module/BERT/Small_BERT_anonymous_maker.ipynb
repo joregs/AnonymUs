{
 "cells": [
  {
   "metadata": {
    "ExecuteTime": {
     "end_time": "2025-03-19T19:14:04.364874Z",
     "start_time": "2025-03-19T19:14:03.617808Z"
    }
   },
   "cell_type": "code",
   "source": [
    "import torch\n",
    "from transformers import AutoTokenizer, AutoModelForTokenClassification, pipeline\n",
    "\n",
    "# Load pre-trained NER model\n",
    "model_checkpoint = \"dbmdz/bert-base-cased-finetuned-conll03-english\"\n",
    "tokenizer = AutoTokenizer.from_pretrained(model_checkpoint)\n",
    "model = AutoModelForTokenClassification.from_pretrained(model_checkpoint)\n",
    "\n",
    "# Create NER pipeline\n",
    "ner_pipeline = pipeline(\"ner\", model=model, tokenizer=tokenizer, aggregation_strategy=\"simple\")\n",
    "\n",
    "# Sample text\n",
    "text = \"Elon Musk founded Tesla in California in 2003.\"\n",
    "\n",
    "# Get NER predictions\n",
    "entities = ner_pipeline(text)\n",
    "\n",
    "# Print entity results\n",
    "for entity in entities:\n",
    "    print(f\"Word: {entity['word']}, Entity: {entity['entity_group']}, Score: {entity['score']:.2f}\")\n"
   ],
   "id": "d37dabd985584243",
   "outputs": [
    {
     "name": "stdout",
     "output_type": "stream",
     "text": [
      "Word: Elon Musk, Entity: LABEL_4, Score: 0.90\n",
      "Word: founded, Entity: LABEL_0, Score: 1.00\n",
      "Word: Tesla, Entity: LABEL_6, Score: 0.96\n",
      "Word: in, Entity: LABEL_0, Score: 1.00\n",
      "Word: California, Entity: LABEL_8, Score: 1.00\n",
      "Word: in 2003., Entity: LABEL_0, Score: 1.00\n"
     ]
    }
   ],
   "execution_count": 13
  },
  {
   "metadata": {
    "ExecuteTime": {
     "end_time": "2025-03-19T19:14:05.999272Z",
     "start_time": "2025-03-19T19:14:04.381900Z"
    }
   },
   "cell_type": "code",
   "source": [
    "# Load pre-trained NER model\n",
    "model_checkpoint = \"dbmdz/bert-base-cased-finetuned-conll03-english\"\n",
    "tokenizer = AutoTokenizer.from_pretrained(model_checkpoint)\n",
    "model = AutoModelForTokenClassification.from_pretrained(model_checkpoint)\n",
    "\n",
    "# Create NER pipeline\n",
    "ner_pipeline = pipeline(\"ner\", model=model, tokenizer=tokenizer)\n",
    "label_mapping = {\n",
    "    \"LABEL_0\": \"O\",  # Outside any entity\n",
    "    \"LABEL_2\": \"MISC\",\n",
    "    \"LABEL_4\": \"PER\",  # Person\n",
    "    \"LABEL_6\": \"ORG\",  # Organization\n",
    "    \"LABEL_8\": \"LOC\"   # Location\n",
    "}\n",
    "# Sample text for anonymization\n",
    "text = \"\"\"In 2021, Dr. Jonathan Reed and his assistant, Emily Carter, conducted an unauthorized experiment at the Blackwood Research Facility in Germany. \n",
    "The experiment, named Project Genesis, involved exposing ten subjects—such as Michael Turner and Sarah Williams—to an untested neurochemical compound.\"\"\"\n",
    "\n",
    "# Get NER predictions\n",
    "entities = ner_pipeline(text)\n",
    "# Define which entity types to anonymize\n",
    "anonymize_types = [\"PER\", \"ORG\", \"LOC\"]\n",
    "\n",
    "# Replace detected entities if their type matches\n",
    "for entity in entities:\n",
    "    entity_label = label_mapping.get(entity['entity'], \"UNKNOWN\")\n",
    "    if entity_label in anonymize_types:\n",
    "        text = text.replace(entity[\"word\"], \"XXX\")\n",
    "\n",
    "print(\"Anonymized Text:\\n\", text)"
   ],
   "id": "bbf4947d53107aa2",
   "outputs": [
    {
     "name": "stdout",
     "output_type": "stream",
     "text": [
      "Anonymized Text:\n",
      " In 2021, Dr. XXX XXX and his assistant, XXX XXX, conducted an unauthorized experiment at the XXXwood XXX XXX in XXX. \n",
      "The experiment, named Project Genesis, involved exposing ten subjects—such as XXX XXX and XXX XXX—to an untested neurochemical compound.\n"
     ]
    }
   ],
   "execution_count": 14
  },
  {
   "metadata": {
    "ExecuteTime": {
     "end_time": "2025-03-19T19:14:08.225839Z",
     "start_time": "2025-03-19T19:14:06.037752Z"
    }
   },
   "cell_type": "code",
   "source": [
    "import os\n",
    "import warnings\n",
    "import logging\n",
    "import re\n",
    "import random\n",
    "from transformers import AutoTokenizer, AutoModelForTokenClassification, AutoModelForMaskedLM, pipeline, FillMaskPipeline\n",
    "\n",
    "# Suppress transformers warnings\n",
    "os.environ[\"TRANSFORMERS_NO_ADVISORY_WARNINGS\"] = \"1\"\n",
    "warnings.simplefilter(\"ignore\")  # Ignore all warnings\n",
    "logging.getLogger(\"transformers\").setLevel(logging.ERROR)\n",
    "\n",
    "# Load pre-trained NER model (for detecting entities)\n",
    "ner_model_checkpoint = \"dbmdz/bert-base-cased-finetuned-conll03-english\"\n",
    "ner_tokenizer = AutoTokenizer.from_pretrained(ner_model_checkpoint)\n",
    "ner_model = AutoModelForTokenClassification.from_pretrained(ner_model_checkpoint)\n",
    "ner_pipeline = pipeline(\"ner\", model=ner_model, tokenizer=ner_tokenizer, aggregation_strategy=\"simple\")\n",
    "\n",
    "# Load pre-trained BERT MLM model (for replacements)\n",
    "mlm_model_checkpoint = \"bert-base-cased\"\n",
    "mlm_tokenizer = AutoTokenizer.from_pretrained(mlm_model_checkpoint)\n",
    "mlm_model = AutoModelForMaskedLM.from_pretrained(mlm_model_checkpoint)\n",
    "mlm_pipeline = pipeline(\"fill-mask\", model=mlm_model, tokenizer=mlm_tokenizer)\n",
    "\n",
    "# Label mapping based on observed outputs\n",
    "label_mapping = {\n",
    "    \"LABEL_0\": \"O\",  # Outside any entity\n",
    "    \"LABEL_2\": \"MISC\",\n",
    "    \"LABEL_4\": \"PER\",  # Person\n",
    "    \"LABEL_6\": \"ORG\",  # Organization\n",
    "    \"LABEL_8\": \"LOC\"   # Location\n",
    "}\n",
    "\n",
    "# Choose which entity types to anonymize\n",
    "anonymize_types = [\"PER\", \"ORG\", \"LOC\"]  # Modify this list as needed\n",
    "\n",
    "# Sample text for NER\n",
    "text = \"\"\"In 2021, Dr. Jonathan Reed and his assistant, Emily Carter, conducted an unauthorized experiment at the Blackwood Research Facility in Germany. \n",
    "The experiment, named Project Genesis, involved exposing ten subjects—such as Michael Turner and Sarah Williams to an untested neurochemical compound.\n",
    "\"\"\"\n",
    "\n",
    "# Get NER predictions\n",
    "entities = ner_pipeline(text)\n",
    "\n",
    "# Convert entity labels using the mapping\n",
    "for entity in entities:\n",
    "    entity_label = entity.get(\"entity_group\", entity.get(\"entity\", \"O\"))\n",
    "    entity[\"entity_group\"] = label_mapping.get(entity_label, entity_label)\n",
    "\n",
    "# Function to predict replacements using Masked Language Model (MLM)\n",
    "def get_mlm_replacement(original_text, masked_text):\n",
    "    \"\"\" Uses BERT MLM to predict a contextual replacement for a masked entity \"\"\"\n",
    "    prediction = mlm_pipeline(masked_text, top_k=5)  # Get top 5 predictions\n",
    "    for pred in prediction:\n",
    "        if pred[\"token_str\"] not in original_text:  # Ensure it's a different word\n",
    "            return pred[\"token_str\"]\n",
    "    return \"UNKNOWN\"\n",
    "\n",
    "# Replace entities with BERT-generated alternatives\n",
    "masked_text = text\n",
    "for entity in sorted(entities, key=lambda x: x['start'], reverse=True):\n",
    "    if entity[\"entity_group\"] in anonymize_types:\n",
    "        masked_version = masked_text[:entity[\"start\"]] + \"[MASK]\" + masked_text[entity[\"end\"]:]\n",
    "        replacement = get_mlm_replacement(text, masked_version)\n",
    "        masked_text = masked_text[:entity[\"start\"]] + replacement + masked_text[entity[\"end\"]:]\n",
    "\n",
    "# Print results\n",
    "print(\"Original Text:\\n\", text)\n",
    "print(\"\\nAnonymized Text:\\n\", masked_text)\n"
   ],
   "id": "d481d834e9aa921f",
   "outputs": [
    {
     "name": "stdout",
     "output_type": "stream",
     "text": [
      "Original Text:\n",
      " In 2021, Dr. Jonathan Reed and his assistant, Emily Carter, conducted an unauthorized experiment at the Blackwood Research Facility in Germany. \n",
      "The experiment, named Project Genesis, involved exposing ten subjects—such as Michael Turner and Sarah Williams to an untested neurochemical compound.\n",
      "\n",
      "\n",
      "Anonymized Text:\n",
      " In 2021, Dr. Smith and his assistant, James, conducted an unauthorized experiment at the university in California. \n",
      "The experiment, named Project Genesis, involved exposing ten subjects—such as himself and others to an untested neurochemical compound.\n",
      "\n"
     ]
    }
   ],
   "execution_count": 15
  }
 ],
 "metadata": {
  "kernelspec": {
   "display_name": "Python 3",
   "language": "python",
   "name": "python3"
  },
  "language_info": {
   "codemirror_mode": {
    "name": "ipython",
    "version": 2
   },
   "file_extension": ".py",
   "mimetype": "text/x-python",
   "name": "python",
   "nbconvert_exporter": "python",
   "pygments_lexer": "ipython2",
   "version": "2.7.6"
  }
 },
 "nbformat": 4,
 "nbformat_minor": 5
}
