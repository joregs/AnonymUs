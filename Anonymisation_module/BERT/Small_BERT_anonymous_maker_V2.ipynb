{
 "cells": [
  {
   "metadata": {
    "ExecuteTime": {
     "end_time": "2025-03-16T17:07:11.333214Z",
     "start_time": "2025-03-16T17:07:00.769816Z"
    }
   },
   "cell_type": "code",
   "source": [
    "from transformers import AutoTokenizer, AutoModelForTokenClassification, pipeline\n",
    "\n",
    "# Load pre-trained NER model\n",
    "model_checkpoint = \"dbmdz/bert-base-cased-finetuned-conll03-english\"\n",
    "tokenizer = AutoTokenizer.from_pretrained(model_checkpoint)\n",
    "model = AutoModelForTokenClassification.from_pretrained(model_checkpoint)\n",
    "\n",
    "# Create NER pipeline\n",
    "ner_pipeline = pipeline(\"ner\", model=model, tokenizer=tokenizer, aggregation_strategy=\"simple\")\n",
    "\n",
    "# Label mapping\n",
    "label_mapping = {\n",
    "    \"O\": \"O\",  # Outside any entity\n",
    "    \"B-PER\": \"PER\", \"I-PER\": \"PER\",\n",
    "    \"B-ORG\": \"ORG\", \"I-ORG\": \"ORG\",\n",
    "    \"B-LOC\": \"LOC\", \"I-LOC\": \"LOC\",\n",
    "    \"B-MISC\": \"MISC\", \"I-MISC\": \"MISC\"\n",
    "}\n",
    "\n",
    "# Sample text for NER\n",
    "text = \"\"\"In 2021, Dr. Jonathan Reed and his assistant, Emily Carter, conducted an unauthorized experiment at the Blackwood Research Facility in Germany. \n",
    "The experiment, named Project Genesis, involved exposing ten subjects—such as Michael Turner and Sarah Williams—to an untested neurochemical compound. \n",
    "Reports suggest that some participants, including David Larson, suffered severe cognitive impairment. \n",
    "The lead scientist, Dr. Reed, allegedly received funding from Orion Pharmaceuticals, a company with ties to undisclosed military projects. \n",
    "After an anonymous tip, Interpol arrested the researchers on July 15, 2022, leading to a controversial trial in Berlin.\"\"\"\n",
    "\n",
    "# Get NER predictions\n",
    "entities = ner_pipeline(text)\n",
    "\n",
    "# Print detected entities for debugging\n",
    "print(entities)  # Check the output structure\n",
    "\n",
    "# Map detected entities to readable labels\n",
    "for entity in entities:\n",
    "    entity_label = entity.get(\"entity_group\", entity.get(\"entity\", \"O\"))  # Adjusting for possible key names\n",
    "    entity[\"entity_group\"] = label_mapping.get(entity_label, entity_label)  # Replace model's label with readable label\n",
    "\n",
    "# Print entities with labels\n",
    "for entity in entities:\n",
    "    print(f\"Entity: {entity['word']} | Label: {entity['entity_group']} | Score: {entity['score']:.4f}\")\n"
   ],
   "id": "d37dabd985584243",
   "outputs": [
    {
     "name": "stderr",
     "output_type": "stream",
     "text": [
      "Some weights of the model checkpoint at dbmdz/bert-base-cased-finetuned-conll03-english were not used when initializing BertForTokenClassification: ['bert.pooler.dense.bias', 'bert.pooler.dense.weight']\n",
      "- This IS expected if you are initializing BertForTokenClassification from the checkpoint of a model trained on another task or with another architecture (e.g. initializing a BertForSequenceClassification model from a BertForPreTraining model).\n",
      "- This IS NOT expected if you are initializing BertForTokenClassification from the checkpoint of a model that you expect to be exactly identical (initializing a BertForSequenceClassification model from a BertForSequenceClassification model).\n",
      "Device set to use cpu\n"
     ]
    },
    {
     "name": "stdout",
     "output_type": "stream",
     "text": [
      "[{'entity_group': 'LABEL_0', 'score': np.float32(0.99259037), 'word': 'In 2021, Dr.', 'start': 0, 'end': 12}, {'entity_group': 'LABEL_4', 'score': np.float32(0.9992299), 'word': 'Jonathan Reed', 'start': 13, 'end': 26}, {'entity_group': 'LABEL_0', 'score': np.float32(0.9999364), 'word': 'and his assistant,', 'start': 27, 'end': 45}, {'entity_group': 'LABEL_4', 'score': np.float32(0.99899566), 'word': 'Emily Carter', 'start': 46, 'end': 58}, {'entity_group': 'LABEL_0', 'score': np.float32(0.9999281), 'word': ', conducted an unauthorized experiment at the', 'start': 58, 'end': 103}, {'entity_group': 'LABEL_8', 'score': np.float32(0.9180295), 'word': 'Blackwood Research Facility', 'start': 104, 'end': 131}, {'entity_group': 'LABEL_0', 'score': np.float32(0.9999167), 'word': 'in', 'start': 132, 'end': 134}, {'entity_group': 'LABEL_8', 'score': np.float32(0.99896014), 'word': 'Germany', 'start': 135, 'end': 142}, {'entity_group': 'LABEL_0', 'score': np.float32(0.99993384), 'word': '. The experiment, named', 'start': 142, 'end': 166}, {'entity_group': 'LABEL_2', 'score': np.float32(0.9616449), 'word': 'Project Genesis', 'start': 167, 'end': 182}, {'entity_group': 'LABEL_0', 'score': np.float32(0.99981475), 'word': ', involved exposing ten subjects — such as', 'start': 182, 'end': 222}, {'entity_group': 'LABEL_4', 'score': np.float32(0.9993518), 'word': 'Michael Turner', 'start': 223, 'end': 237}, {'entity_group': 'LABEL_0', 'score': np.float32(0.9998927), 'word': 'and', 'start': 238, 'end': 241}, {'entity_group': 'LABEL_4', 'score': np.float32(0.9992306), 'word': 'Sarah Williams', 'start': 242, 'end': 256}, {'entity_group': 'LABEL_0', 'score': np.float32(0.99945587), 'word': '— to an untested neurochemical compound. Reports suggest that some participants, including', 'start': 256, 'end': 346}, {'entity_group': 'LABEL_4', 'score': np.float32(0.99939275), 'word': 'David Larson', 'start': 347, 'end': 359}, {'entity_group': 'LABEL_0', 'score': np.float32(0.99900943), 'word': ', suffered severe cognitive impairment. The lead scientist, Dr', 'start': 359, 'end': 422}, {'entity_group': 'LABEL_4', 'score': np.float32(0.8963041), 'word': '. Reed', 'start': 422, 'end': 428}, {'entity_group': 'LABEL_0', 'score': np.float32(0.9999472), 'word': ', allegedly received funding from', 'start': 428, 'end': 461}, {'entity_group': 'LABEL_6', 'score': np.float32(0.99880904), 'word': 'Orion Pharmaceuticals', 'start': 462, 'end': 483}, {'entity_group': 'LABEL_0', 'score': np.float32(0.99993455), 'word': ', a company with ties to undisclosed military projects. After an anonymous tip,', 'start': 483, 'end': 563}, {'entity_group': 'LABEL_6', 'score': np.float32(0.9993774), 'word': 'Interpol', 'start': 564, 'end': 572}, {'entity_group': 'LABEL_0', 'score': np.float32(0.99979603), 'word': 'arrested the researchers on July 15, 2022, leading to a controversial trial in', 'start': 573, 'end': 651}, {'entity_group': 'LABEL_8', 'score': np.float32(0.999143), 'word': 'Berlin', 'start': 652, 'end': 658}, {'entity_group': 'LABEL_0', 'score': np.float32(0.999941), 'word': '.', 'start': 658, 'end': 659}]\n",
      "Entity: In 2021, Dr. | Label: LABEL_0 | Score: 0.9926\n",
      "Entity: Jonathan Reed | Label: LABEL_4 | Score: 0.9992\n",
      "Entity: and his assistant, | Label: LABEL_0 | Score: 0.9999\n",
      "Entity: Emily Carter | Label: LABEL_4 | Score: 0.9990\n",
      "Entity: , conducted an unauthorized experiment at the | Label: LABEL_0 | Score: 0.9999\n",
      "Entity: Blackwood Research Facility | Label: LABEL_8 | Score: 0.9180\n",
      "Entity: in | Label: LABEL_0 | Score: 0.9999\n",
      "Entity: Germany | Label: LABEL_8 | Score: 0.9990\n",
      "Entity: . The experiment, named | Label: LABEL_0 | Score: 0.9999\n",
      "Entity: Project Genesis | Label: LABEL_2 | Score: 0.9616\n",
      "Entity: , involved exposing ten subjects — such as | Label: LABEL_0 | Score: 0.9998\n",
      "Entity: Michael Turner | Label: LABEL_4 | Score: 0.9994\n",
      "Entity: and | Label: LABEL_0 | Score: 0.9999\n",
      "Entity: Sarah Williams | Label: LABEL_4 | Score: 0.9992\n",
      "Entity: — to an untested neurochemical compound. Reports suggest that some participants, including | Label: LABEL_0 | Score: 0.9995\n",
      "Entity: David Larson | Label: LABEL_4 | Score: 0.9994\n",
      "Entity: , suffered severe cognitive impairment. The lead scientist, Dr | Label: LABEL_0 | Score: 0.9990\n",
      "Entity: . Reed | Label: LABEL_4 | Score: 0.8963\n",
      "Entity: , allegedly received funding from | Label: LABEL_0 | Score: 0.9999\n",
      "Entity: Orion Pharmaceuticals | Label: LABEL_6 | Score: 0.9988\n",
      "Entity: , a company with ties to undisclosed military projects. After an anonymous tip, | Label: LABEL_0 | Score: 0.9999\n",
      "Entity: Interpol | Label: LABEL_6 | Score: 0.9994\n",
      "Entity: arrested the researchers on July 15, 2022, leading to a controversial trial in | Label: LABEL_0 | Score: 0.9998\n",
      "Entity: Berlin | Label: LABEL_8 | Score: 0.9991\n",
      "Entity: . | Label: LABEL_0 | Score: 0.9999\n"
     ]
    }
   ],
   "execution_count": 1
  }
 ],
 "metadata": {
  "kernelspec": {
   "display_name": "Python 3",
   "language": "python",
   "name": "python3"
  },
  "language_info": {
   "codemirror_mode": {
    "name": "ipython",
    "version": 2
   },
   "file_extension": ".py",
   "mimetype": "text/x-python",
   "name": "python",
   "nbconvert_exporter": "python",
   "pygments_lexer": "ipython2",
   "version": "2.7.6"
  }
 },
 "nbformat": 4,
 "nbformat_minor": 5
}
